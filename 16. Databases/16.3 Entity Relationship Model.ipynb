{
 "cells": [
  {
   "cell_type": "markdown",
   "metadata": {},
   "source": [
    "# Entity Relationship Model\n",
    "Entity relationship model is a high-level data model that describes the logical structure of a database. It is a graphical representation of entities and their relationships to each other, typically used in modeling the organization of data within databases or information systems.\n",
    "\n",
    "엔티티 관계 모델은 데이터베이스의 논리적 구조를 설명하는 상위 수준의 데이터 모델입니다. 엔티티와 엔티티 간의 관계를 그래픽으로 표현한 것으로, 일반적으로 데이터베이스나 정보 시스템 내에서 데이터의 구성을 모델링하는 데 사용됩니다."
   ]
  },
  {
   "cell_type": "markdown",
   "metadata": {},
   "source": [
    "### Entity Relationship Model (ER 모델)\n",
    "\n",
    "데이터베이스 설계의 핵심적인 초기 단계 중 하나는 개체 관계 모델(Entity Relationship Model, 이하 ER 모델)을 구축하는 것입니다. ER 모델은 복잡한 데이터베이스 구조를 시각적으로 표현하는 데 사용되는 추상적이고 개념적인 데이터 모델입니다. 이 모델은 데이터베이스 설계자가 정보의 구조를 어떻게 데이터베이스 시스템에 저장할 것인지를 결정하는 데 도움을 줍니다. ER 모델은 1976년에 피터 첸(Peter Chen)에 의해 처음 소개되었으며, 이후 데이터베이스 설계와 정보 시스템 분야에서 널리 채택되었습니다."
   ]
  },
  {
   "cell_type": "markdown",
   "metadata": {},
   "source": [
    "### 왜 사용하는가?\n",
    " \n",
    "\n",
    "선요약 하자면\n",
    "\n",
    "1. 개념적 설계 지원\n",
    "\n",
    "2. 데이터 구조의 명확한 표현\n",
    "\n",
    "3. 통신의 용이성\n",
    "\n",
    "4. 데이터베이스 무결성 유지\n",
    "\n",
    "5. 변경 관리의 용이성\n",
    "\n",
    "6. 데이터베이스 설계의 표준\n",
    "\n",
    " \n",
    "\n",
    "ER 모델은 DB설계의 관리를 더욱 효율적이고 체계적으로 만들어주기 때문에 사용합니다."
   ]
  },
  {
   "cell_type": "markdown",
   "metadata": {},
   "source": [
    "### ER 모델의 구성 요소\n",
    "\n",
    "ER 모델은 주로 세 가지 기본 구성 요소로 이루어져 있습니다: 개체(Entity), 속성(Attribute), 관계(Relationship). 이 세 가지 요소는 데이터베이스의 구조를 정의하고, 데이터 간의 연결을 명확하게 합니다.\n",
    "\n",
    "1. 개체 (Entity)\n",
    "개체는 데이터베이스에 저장되는 정보의 기본 단위로, 실제 세계에서 식별 가능한 객체를 의미합니다. 예를 들어, 학생, 직원, 책 등이 개체가 될 수 있습니다.\n",
    "\n",
    "2. 속성 (Attribute)\n",
    "속성은 개체의 성질이나 특성을 나타냅니다. 예를 들어, 학생 개체는 이름, 학번, 전공 등의 속성을 가질 수 있습니다.\n",
    "\n",
    "3. 관계 (Relationship)\n",
    "관계는 개체 간의 연결이나 연관을 나타냅니다. 예를 들어, 학생이 어떤 과목을 수강한다면, 학생과 과목 개체 사이에 \"수강\"이라는 관계가 형성됩니다.\n",
    "\n",
    " "
   ]
  },
  {
   "cell_type": "code",
   "execution_count": null,
   "metadata": {},
   "outputs": [],
   "source": []
  }
 ],
 "metadata": {
  "language_info": {
   "name": "python"
  }
 },
 "nbformat": 4,
 "nbformat_minor": 2
}
