{
 "cells": [
  {
   "cell_type": "markdown",
   "metadata": {},
   "source": [
    "# Normalization vs Denormalization\n",
    "Database normalization is a process used to organize a database into tables and columns. The idea is that a table should be about a specific topic and that only those columns which support that topic are included. This limits the number of duplicate data contained within your database. This makes the database more flexible by eliminating issues stemming from database modifications.\n",
    "\n",
    "Denormalization is the opposite of normalization. It is the process of adding redundant data to a database to improve read performance. This is done by adding duplicate data into multiple tables to avoid expensive joins. This is done at the expense of increased storage and decreased write performance.\n",
    "\n",
    "데이터베이스 정규화는 데이터베이스를 테이블과 열로 구성하는 데 사용되는 프로세스입니다. 테이블은 특정 주제에 관한 것이어야 하며, 해당 주제를 뒷받침하는 열만 포함해야 한다는 개념입니다. 이렇게 하면 데이터베이스에 포함된 중복 데이터의 수가 제한됩니다. 이렇게 하면 데이터베이스 수정으로 인한 문제를 제거하여 데이터베이스를 더욱 유연하게 만들 수 있습니다.\n",
    "\n",
    "비정규화는 정규화의 반대 개념입니다. 읽기 성능을 개선하기 위해 데이터베이스에 중복 데이터를 추가하는 프로세스입니다. 이는 비용이 많이 드는 조인을 피하기 위해 중복 데이터를 여러 테이블에 추가하는 방식으로 수행됩니다. 이 작업은 저장 공간이 증가하고 쓰기 성능이 저하되는 대신 수행됩니다."
   ]
  },
  {
   "cell_type": "code",
   "execution_count": null,
   "metadata": {},
   "outputs": [],
   "source": []
  }
 ],
 "metadata": {
  "language_info": {
   "name": "python"
  }
 },
 "nbformat": 4,
 "nbformat_minor": 2
}
