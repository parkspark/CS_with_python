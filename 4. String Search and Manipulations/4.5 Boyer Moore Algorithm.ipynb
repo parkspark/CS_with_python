{
 "cells": [
  {
   "cell_type": "markdown",
   "metadata": {},
   "source": [
    "# CS - 4. String Search and Manipulations - 4.5. Boyer Moore Algorithm\n",
    "\n",
    "Boyer Moore Algorithm\n",
    "💡Boyer Moore algorithm is a string searching algorithm that is used to find the index of a substring in a string. It is a very efficient algorithm that is used in many applications. It is used in text editors, compilers, and many other applications.\n",
    "\n",
    "보이어 무어 알고리즘은 문자열에서 하위 문자열의 인덱스를 찾는 데 사용되는 문자열 검색 알고리즘입니다. 많은 애플리케이션에서 사용되는 매우 효율적인 알고리즘입니다. 텍스트 편집기, 컴파일러 및 기타 여러 애플리케이션에서 사용됩니다."
   ]
  },
  {
   "cell_type": "markdown",
   "metadata": {},
   "source": [
    "보이어-무어 알고리즘은 문자열 검색 알고리즘 중 하나로, 특히 긴 문장에서 짧은 패턴을 찾아내는 데 매우 효율적입니다. 1977년에 Robert Boyer와 J Strother Moore에 의해 개발되었습니다.\n",
    "\n",
    "보이어-무어 알고리즘의 핵심 개념은 '오른쪽에서 왼쪽으로' 탐색하는 것이며, 이는 대부분의 다른 문자열 검색 알고리즘과는 반대 방향입니다. 또한, 이 알고리즘은 불일치가 발생할 경우 최대한 많이 건너뛰는 것을 목표로 하며, 이를 통해 검색 속도를 높입니다.\n",
    "\n",
    "이 알고리즘은 두 가지 주요 휴리스틱, 즉 '나쁜 문자 휴리스틱'과 '좋은 접미사 휴리스틱'을 사용합니다.\n",
    "\n",
    "나쁜 문자 휴리스틱: 패턴에서 불일치가 발생한 문자가 패턴 내에 존재하지 않으면 패턴 전체를 오른쪽으로 이동합니다. 만약 패턴 내에 존재한다면, 불일치가 발생한 문자를 패턴의 가장 오른쪽에 있는 동일한 문자에 맞추어 이동합니다.\n",
    "좋은 접미사 휴리스틱: 패턴에서 일치하는 접미사가 발견되면, 이 접미사가 패턴 내에서 다시 발견될 위치로 패턴을 이동합니다.\n",
    "이 두 가지 휴리스틱은 결합되어 사용되며, 두 이동 중에서 더 멀리 이동하는 쪽을 선택합니다. 이를 통해 보이어-무어 알고리즘은 문자열 검색 과정을 매우 빠르게 수행할 수 있습니다.\n",
    "\n",
    "그러나 이 알고리즘이 효율적이기 위해서는 전처리 과정이 필요합니다. 이 전처리 과정에서 '나쁜 문자 테이블'과 '좋은 접미사 테이블'을 생성하고 이를 바탕으로 문자열 검색을 수행합니다. 이러한 전처리 과정 때문에 짧은 문자열이나 단일 검색에는 다른 알고리즘들이 더 효율적일 수 있습니다."
   ]
  },
  {
   "cell_type": "markdown",
   "metadata": {},
   "source": [
    "## In Python"
   ]
  },
  {
   "cell_type": "code",
   "execution_count": 7,
   "metadata": {},
   "outputs": [],
   "source": [
    "def generate_bad_char_shift(term):\n",
    "    skip_list = {}\n",
    "    for i in range(0, len(term)-1):\n",
    "        skip_list[term[i]] = len(term)-i-1\n",
    "    return skip_list\n",
    "\n",
    "def search_boyer_moore(text, pattern):\n",
    "    bad_char_shift = generate_bad_char_shift(pattern)\n",
    "    i = 0\n",
    "    while i < len(text)-len(pattern)+1:\n",
    "        j = len(pattern)\n",
    "        while j > 0 and pattern[j-1] == text[i+j-1]:\n",
    "            j -= 1\n",
    "        if j > 0:\n",
    "            bad_char_shift_value = bad_char_shift.get(text[i+j-1], len(pattern))\n",
    "            i += bad_char_shift_value\n",
    "        else:\n",
    "            return i\n",
    "    return -1"
   ]
  },
  {
   "cell_type": "code",
   "execution_count": 8,
   "metadata": {},
   "outputs": [
    {
     "name": "stdout",
     "output_type": "stream",
     "text": [
      "찾는 문자열의 위치:  7\n"
     ]
    }
   ],
   "source": [
    "text = \"나는 경기도 안양의 이준영이다!\"\n",
    "pattern = \"안양\"\n",
    "position = search_boyer_moore(text, pattern)\n",
    "print(\"찾는 문자열의 위치: \", position)"
   ]
  },
  {
   "cell_type": "markdown",
   "metadata": {},
   "source": [
    "하나 찾을수 있는데, 이게 좀 여러개를 찾으려면 함수를 수정해야한다."
   ]
  },
  {
   "cell_type": "code",
   "execution_count": 11,
   "metadata": {},
   "outputs": [],
   "source": [
    "def search_boyer_moore(text, pattern):\n",
    "    bad_char_shift = generate_bad_char_shift(pattern)  # 나쁜 문자 휴리스틱에 사용할 skip_list 생성\n",
    "    i = 0  # 검색 시작 위치\n",
    "    positions = []  # 패턴이 발견된 위치를 저장할 리스트\n",
    "    while i < len(text)-len(pattern)+1:  # 텍스트를 오른쪽으로 이동하면서\n",
    "        j = len(pattern)  # 패턴의 마지막 문자부터 비교 시작\n",
    "        while j > 0 and pattern[j-1] == text[i+j-1]:  # 패턴의 문자와 텍스트의 문자가 일치하는 동안\n",
    "            j -= 1  # 패턴을 왼쪽으로 이동\n",
    "        if j > 0:  # 불일치 발생 시\n",
    "            # 나쁜 문자 휴리스틱에 따라 텍스트의 이동 거리 계산\n",
    "            bad_char_shift_value = bad_char_shift.get(text[i+j-1], len(pattern))\n",
    "            i += bad_char_shift_value  # 텍스트를 오른쪽으로 이동\n",
    "        else:  # 패턴의 모든 문자가 일치하는 경우\n",
    "            positions.append(i)  # 현재 위치를 리스트에 추가\n",
    "            i += 1  # 다음 위치로 이동\n",
    "    return positions  # 모든 위치 반환\n"
   ]
  },
  {
   "cell_type": "code",
   "execution_count": 12,
   "metadata": {},
   "outputs": [
    {
     "name": "stdout",
     "output_type": "stream",
     "text": [
      "찾는 문자열의 위치:  [3, 58, 81, 347, 404, 421]\n"
     ]
    }
   ],
   "source": [
    "text = \"\"\"님들 라면드시지마세요 체질이라는게바뀝니다 예를들어 초식공룡과 육식공룡이잇는데요 \n",
    "초식공룡처럼힘약해질려면 라면을드시고 육식공룡처럼 힘쌔지고싶으시면 라면드시지마세요 \n",
    "합기도배운놈 따라하고 유도배운놈이겨서따라하고 복싱배운놈이겨서따라하고 잡종맛좀봐라 \n",
    "이얏 합기도+유도+복싱+태권도+ 아침밥 꼭먹고 학교가기ㅋㅋ아침밥머기전 물2잔ㅇㅋ10초간격으로 \n",
    "물1한마시고또물1한잔 20분후 식사ㄱㄱ밥먹을때 국잇어야됨 아침,점심,저녁 꼭 꼬박꼬박 챙겨드세요 \n",
    "군것질해봣자 몸무게만늘고 힘빠지고 식사후2시간동안 똥누면안됨 힘쌔질려멱 \n",
    "그리고 이온음료,탄산음료 는 목막힐때만 먹는거임 과자는 먹어봣짜 힘빠지고 \n",
    "아스크림 힘빠지고 초콜릿 힘빠지고 라면은 체질이바뀜 \n",
    "동물로비유하자면 초식동물과 육식동물이잇는데요 초식동물처럼   \n",
    "힘이약해지고 싶으면 라면을 먹어야되고 육식동물처럼 라면 안먹어야됨 \"\"\"\n",
    "pattern = \"라면\"\n",
    "position = search_boyer_moore(text, pattern)\n",
    "print(\"찾는 문자열의 위치: \", position)\n"
   ]
  },
  {
   "cell_type": "markdown",
   "metadata": {},
   "source": [
    "이런식으로 보이어-무어 알고리즘으로 문자열을 찾을수 있다."
   ]
  },
  {
   "cell_type": "markdown",
   "metadata": {},
   "source": [
    "### Appendix\n",
    "보이어-무어 알고리즘은 문자열 탐색 문제를 해결하는 데 활용됩니다. 특히, 긴 텍스트에서 짧은 패턴을 찾는 경우에 효율적입니다. 이는 보이어-무어 알고리즘이 불일치가 발생할 경우 가능한 한 많이 건너뛰어 탐색 속도를 높이기 때문입니다.\n",
    "\n",
    " \n",
    "\n",
    "KMP 랑 비교한다면.\n",
    "\n",
    " \n",
    "\n",
    "방향성\n",
    "\n",
    "- KMP 알고리즘은 텍스트를 왼쪽에서 오른쪽으로 스캔합니다.\n",
    "\n",
    "- 보이어-무어 알고리즘은 오른쪽에서 왼쪽으로 스캔합니다.\n",
    "\n",
    "\n",
    "효율성\n",
    "\n",
    "보이어-무어 알고리즘은 일반적으로 KMP 알고리즘보다 더 빠르며, 특히 대상 텍스트가 아주 클 때 더욱 효율적입니다. 이는 보이어-무어 알고리즘이 불일치를 발견하면 최대한 많이 건너뛰기 때문입니다. 반면, KMP 알고리즘은 텍스트를 한 번만 통과하며, 패턴에 대한 부분적인 일치를 활용하기 때문에 불필요한 비교를 최소화합니다.\n",
    "\n",
    "\n",
    "전처리\n",
    "\n",
    "두 알고리즘 모두 패턴을 전처리하는 단계를 포함합니다. KMP 알고리즘은 패턴의 접두사와 접미사가 일치하는 길이를 계산하는 전처리 테이블을 만듭니다. 반면에 보이어-무어 알고리즘은 '나쁜 문자 휴리스틱'과 '좋은 접미사 휴리스틱'을 이용한 전처리 테이블을 만듭니다."
   ]
  }
 ],
 "metadata": {
  "kernelspec": {
   "display_name": "Python 3",
   "language": "python",
   "name": "python3"
  },
  "language_info": {
   "codemirror_mode": {
    "name": "ipython",
    "version": 3
   },
   "file_extension": ".py",
   "mimetype": "text/x-python",
   "name": "python",
   "nbconvert_exporter": "python",
   "pygments_lexer": "ipython3",
   "version": "3.7.9"
  }
 },
 "nbformat": 4,
 "nbformat_minor": 2
}
