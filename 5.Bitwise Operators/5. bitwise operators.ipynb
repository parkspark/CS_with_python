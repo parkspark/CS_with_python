{
 "cells": [
  {
   "cell_type": "markdown",
   "metadata": {},
   "source": [
    "# CS - 5. Bitwise Operators \n",
    "\n",
    "Bitwise Operators\n",
    "💡 Bitwise operators are used to perform operations on individual bits of a number. They are used in cryptography, image processing, and other applications.\n",
    "\n",
    " \n",
    "\n",
    "비트 연산자\n",
    "비트 연산자는 숫자의 개별 비트에 대한 연산을 수행하는 데 사용됩니다. 암호화, 이미지 처리 및 기타 애플리케이션에 사용됩니다.\n",
    "\n",
    " "
   ]
  },
  {
   "cell_type": "markdown",
   "metadata": {},
   "source": [
    "비트 연산자는 컴퓨터 프로그래밍에서 사용되며, 이는 데이터를 비트 단위로 조작하는데 사용됩니다. 비트 연산자의 종류는 아래와 같습니다.\n",
    "\n",
    "- AND ( & ) : 두 비트가 모두 1일 때만 결과가 1이 됩니다.\n",
    "- OR ( | ) : 두 비트 중 하나라도 1이라면 결과가 1이 됩니다.\n",
    "- XOR ( ^ ) : 두 비트가 서로 다를 때 결과가 1이 됩니다.\n",
    "- NOT ( ~ ) : 비트 값을 반전시킵니다. 즉, 1은 0으로, 0은 1로 바꿉니다.\n",
    "- Left shift ( << ) : 지정한 수만큼 비트를 왼쪽으로 이동시킵니다. 오른쪽에는 0이 채워집니다.\n",
    "- Right shift ( >> ) : 지정한 수만큼 비트를 오른쪽으로 이동시킵니다. 왼쪽에는 최상위 비트가 채워집니다.\n",
    "\n",
    "이러한 비트 연산자는 빠른 계산이나 메모리 최적화, 플래그 설정 등 다양한 용도로 사용됩니다. 그러나 사용할 때 주의해야 할 점은, 비트 연산자는 정수형 데이터에만 적용할 수 있다는 것입니다. 또한, 비트 연산의 결과는 연산을 수행한 데이터 타입에 따라 다를 수 있습니다.\n",
    "\n",
    "마지막으로, 비트 연산자의 사용은 프로그래밍 언어에 따라 약간씩 다를 수 있으므로, 사용하는 언어의 문서나 참고 자료를 확인하는 것이 좋습니다. 이외에도 더 궁금한 점이 있으시다면 언제든지 질문해주세요."
   ]
  },
  {
   "cell_type": "code",
   "execution_count": 2,
   "metadata": {},
   "outputs": [
    {
     "name": "stdout",
     "output_type": "stream",
     "text": [
      "1\n",
      "7\n",
      "6\n",
      "-6\n"
     ]
    }
   ],
   "source": [
    "# AND 연산\n",
    "print(5 & 3)  # 출력: 1\n",
    "\n",
    "# OR 연산\n",
    "print(5 | 3)  # 출력: 7\n",
    "\n",
    "# XOR 연산\n",
    "print(5 ^ 3)  # 출력: 6\n",
    "\n",
    "# NOT 연산\n",
    "print(~5)  # 출력: -6"
   ]
  },
  {
   "cell_type": "markdown",
   "metadata": {},
   "source": [
    "### AND 연산\n",
    "print(5 & 3) # 출력: 7\n",
    "\n",
    "이 7이 나오는 이유를 자세히 풀어보겠습니다.\n",
    "\n",
    "5를 2진수로 표현하면 101, 3을 2진수로 표현하면 011 입니다.\n",
    "두 수를 AND 연산하면 001이므로, 10진수로는 1입니다.\n",
    "\n",
    "### OR 연산\n",
    "print(5 | 3)  # 출력: 7\n",
    "\n",
    "OR 연산도 마찬가지입니다.\n",
    "5를 2진수로 표현하면 101, 3을 2진수로 표현하면 011 입니다.\n",
    "두 수를 OR 연산하면 111이므로, 10진수로는 7입니다.\n",
    "\n",
    "\n",
    "### XOR 연산\n",
    "print(5 ^ 3)  # 출력: 6\n",
    "\n",
    "5를 2진수로 표현하면 101, 3을 2진수로 표현하면 011 입니다.\n",
    "두 수를 XOR 연산하면 110이므로, 10진수로는 6입니다.\n",
    "\n",
    "### NOT 연산\n",
    "print(~5)  # 출력: -6\n",
    "\n",
    "5를 2진수로 표현하면 101 입니다.\n",
    "이 수를 NOT 연산하면 010이 되는데, 파이썬에서는 보수를 취한 후 -1을 더한 값을 반환하므로 10진수로는 -6입니다.\n"
   ]
  },
  {
   "cell_type": "code",
   "execution_count": 3,
   "metadata": {},
   "outputs": [
    {
     "name": "stdout",
     "output_type": "stream",
     "text": [
      "20\n",
      "2\n"
     ]
    }
   ],
   "source": [
    "# Left shift 연산\n",
    "print(5 << 2)  # 출력: 20\n",
    "\n",
    "\n",
    "# Right shift 연산\n",
    "print(5 >> 1)  # 출력: 2"
   ]
  },
  {
   "cell_type": "markdown",
   "metadata": {},
   "source": [
    "### Left shift 연산\n",
    "print(5 << 2)  # 출력: 20\n",
    "5를 2진수로 표현하면 101 입니다.\n",
    "이 수를 2만큼 왼쪽으로 shift하면 10100이므로, 10진수로는 20입니다.\n",
    "\n",
    "### Right shift 연산\n",
    "print(5 >> 1)  # 출력: 2\n",
    "5를 2진수로 표현하면 101 입니다.\n",
    "이 수를 1만큼 오른쪽으로 shift하면 10이므로, 10진수로는 2입니다."
   ]
  }
 ],
 "metadata": {
  "kernelspec": {
   "display_name": "Python 3",
   "language": "python",
   "name": "python3"
  },
  "language_info": {
   "codemirror_mode": {
    "name": "ipython",
    "version": 3
   },
   "file_extension": ".py",
   "mimetype": "text/x-python",
   "name": "python",
   "nbconvert_exporter": "python",
   "pygments_lexer": "ipython3",
   "version": "3.7.9"
  }
 },
 "nbformat": 4,
 "nbformat_minor": 2
}
