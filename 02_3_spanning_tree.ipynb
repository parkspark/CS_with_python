{
 "cells": [
  {
   "cell_type": "markdown",
   "metadata": {},
   "source": [
    "# Data structures (with python) - 2. Graph - 2.3. Spanning Tree\n",
    "\n",
    " \n",
    "\n",
    "Spanning Tree\n",
    "\n",
    " \n",
    "\n",
    "💡 A spanning tree is a subset of Graph G, which has all the vertices covered with minimum possible number of edges. Hence, a spanning tree does not have cycles and it cannot be disconnected..\n",
    "\n",
    "스패닝 트리는 그래프 G의 하위 집합으로, 모든 정점이 가능한 최소 수의 에지로 덮여 있습니다. 따라서 스패닝 트리에는 주기가 없으며 연결이 끊어질 수 없습니다."
   ]
  },
  {
   "cell_type": "markdown",
   "metadata": {},
   "source": [
    "Spanning Tree 는  뒤에 Tree 라고 붙지만 구지 분류하자면 Tree보다 graph theory의 중요 개념에 속한다.\n",
    "앞서 그래프 이론은, 노드(node)와 그사이를 연결하는 엣지(edge)의 집합으로 이루어진 그래프를 연구한다.\n",
    "\n",
    " \n",
    "\n",
    "스패닝 트리는 그래프의 서브그래프(subgraph)이며,\n",
    "\n",
    "그래프의 트리 구조를 나타내주기 때문에 그래프 이론의 일부로 분류된다.\n",
    "\n",
    " \n",
    "\n",
    "(Tree 이론에는 - binary, binary search, full binary, complete binary, balanced, unbalanced Tree 들이 있다.\n",
    "이 시리즈에서 정리할 tree들 이다.)"
   ]
  },
  {
   "cell_type": "markdown",
   "metadata": {},
   "source": [
    "최소 스패닝 트리 알고리즘에는\n",
    "\n",
    "kruskal과 prim 알고리즘이 있다.\n",
    "\n",
    " \n",
    "\n",
    "Kruskal 알고리즘을 파이썬에서 구현해보자"
   ]
  },
  {
   "cell_type": "code",
   "execution_count": 1,
   "metadata": {},
   "outputs": [],
   "source": [
    "class Graph:\n",
    "    def __init__(self, vertices):\n",
    "        self.V = vertices\n",
    "        self.graph = []\n",
    "\t# 그래프를 초기화한다.\n",
    "    # vertices는 그래프의 정점의 수\n",
    "    # self.graph 그래프의 간선을 저장하는 리스트\n",
    "\n",
    "    def add_edge(self, u, v, w):\n",
    "        self.graph.append([u, v, w])\n",
    "\t# u, v 는 간선의 양 끝 정점\n",
    "    # w는 간선의 가중치\n",
    "\n",
    "    def find(self, parent, i):\n",
    "        if parent[i] == i:\n",
    "            return i\n",
    "        return self.find(parent, parent[i])\n",
    "\t#fine(self, parent, i)이 메서드에서 부모배열의 i 번째 정점의 루투를 찾는다.\n",
    "\n",
    "\n",
    "    def union(self, parent, rank, x, y):\n",
    "        xroot = self.find(parent, x)\n",
    "        yroot = self.find(parent, y)\n",
    "        if rank[xroot] < rank[yroot]:\n",
    "            parent[xroot] = yroot\n",
    "        elif rank[xroot] > rank[yroot]:\n",
    "            parent[yroot] = xroot\n",
    "        else :\n",
    "            parent[yroot] = xroot\n",
    "            rank[xroot] += 1\n",
    "\t# union 메서드는 두 개의 서로 다른 집합을 합친다.\n",
    "    # x, y는 각각 집합을 대표하는 루트 정점\n",
    "    # 이 메서드에서 두 집합의 rank를 비교해 랭크가 더 낮은 집합을 랭크가 더 높은 집합에 합친다.\n",
    "    # 랭크가 같은 경우에는 한 집합을 다른 집합에 합치고 랭크를 1 증가시킨다.\n",
    "\n",
    "\n",
    "    def kruskal(self):\n",
    "        result = []\n",
    "        i = 0\n",
    "        e = 0\n",
    "        self.graph = sorted(self.graph, key=lambda item: item[2])\n",
    "        parent = []\n",
    "        rank = []\n",
    "        for node in range(self.V):\n",
    "            parent.append(node)\n",
    "            rank.append(0)\n",
    "        while e < self.V - 1:\n",
    "            u, v, w = self.graph[i]\n",
    "            i += 1\n",
    "            x = self.find(parent, u)\n",
    "            y = self.find(parent, v)\n",
    "            if x != y:\n",
    "                e += 1\n",
    "                result.append([u, v, w])\n",
    "                self.union(parent, rank, x, y)\n",
    "        return result\n",
    "        \n",
    "\t# kruskal 이 메서드는 크루스칼 알고리즘을 실행, 최소 스패닝 트리를 찾는다.\n",
    "    # 간선들을 가중치의 오름차순으로 정렬하고(sorted),\n",
    "    # 가장 가중치가 작은 간선부터 선택하여 스패닝 트리에 추가한다.\n",
    "    # 간선을 추가할 때에 해당 간선이 사이클을 형성하는지 확인하고,\n",
    "    # 사이클을 형성하지 않는 경우에만 스패닝 트리에 추가한다"
   ]
  },
  {
   "cell_type": "markdown",
   "metadata": {},
   "source": [
    "이해하기 쉽게 각 메서드마다 주석을 달아 놓았다."
   ]
  },
  {
   "cell_type": "code",
   "execution_count": 2,
   "metadata": {},
   "outputs": [
    {
     "name": "stdout",
     "output_type": "stream",
     "text": [
      "[[2, 3, 4], [0, 3, 5], [0, 1, 10]]\n"
     ]
    }
   ],
   "source": [
    "g = Graph(4)\n",
    "g.add_edge(0, 1, 10)\n",
    "g.add_edge(0, 2, 6)\n",
    "g.add_edge(0, 3, 5)\n",
    "g.add_edge(1, 3, 15)\n",
    "g.add_edge(2, 3, 4)\n",
    "\n",
    "print(g.kruskal())  # [[2, 3, 4], [0, 3, 5], [0, 1, 10]]"
   ]
  },
  {
   "cell_type": "markdown",
   "metadata": {},
   "source": [
    "위 코드는 4개의 노드와 5개의 간선을 가진 그래프에서 스패닝 트리를 찾는다.\n",
    "\n",
    "결과는 선택된 간선들과 각 간선의 가중치를 나타낸다.\n",
    "\n",
    "(추후 그림설명 추가)\n",
    "\n",
    " \n",
    "\n",
    " \n",
    "\n",
    "4개의 노드 (0123), 5 개의 간선 (0-1, 0-2, 0-3, 1-3, 2-3) 으로 생성한다.\n",
    "\n",
    "각 가중치 (10,6,5,15,4)\n",
    "\n",
    " \n",
    "\n",
    "크루스칼 알고리즘은 가장 가중치가 작은 간선부터 선택한다.\n",
    "\n",
    "1. 가중치4 인 간선 2-3 선택. -> [[2,3,4]]\n",
    "\n",
    " \n",
    "\n",
    "2. 차례대로 가중치 5인 0-3\n",
    "\n",
    "[[2,3,4], [0,3,5]]\n",
    "\n",
    "\n",
    "3. 그다음 가중치 6인 간선 0-2를 선택하고 추가하면\n",
    "사이클 0-2-3-0 이 형성되어 버려 스패닝 트리가 아니다.\n",
    "\n",
    "4.  그다음 가중치 10 , 0-1을 선택하면 사이클이 형성되지 않으므로 스패닝 트리에 추가한다.\n",
    "\n",
    "[[2,3,4],[0,3,5],[0,1,10]]\n",
    "\n",
    "\n",
    "5. 마지막 가중치 15, 1-3 은 \n",
    "이미 0-1, 0-3 간선이 선택되어있다. \n",
    "\n",
    "따라서 1-3 간선을 추가하면 1-0-3-1 이런 사이클이 형성 된다.\n",
    "\n",
    "따라서 스패닝 트리에 추가되지 않는다.\n",
    "\n",
    " \n",
    "\n",
    " \n",
    "\n",
    "최종적인 최소 스패닝 트리는 2-3, 0-3, 0-1로 이루어져 있는\n",
    "\n",
    "[[2,3,4],[0,3,5],[0,1,10]]이 된다."
   ]
  },
  {
   "cell_type": "markdown",
   "metadata": {},
   "source": [
    "정리\n",
    "스패닝 트리 (Spanning tree)는\n",
    "\n",
    "1. cycle(loop)가 없다.\n",
    "\n",
    "2. 모든 정점이 가능한 최소 수의 에지로 덮여있다.\n",
    "\n",
    " \n",
    "\n",
    "활용\n",
    "\n",
    "1. 네트워크 계획\n",
    "\n",
    "2. 컴퓨터 네트워크 라우팅 프로토콜\n",
    "\n",
    "3. 클러스터 분석"
   ]
  }
 ],
 "metadata": {
  "kernelspec": {
   "display_name": "Python 3",
   "language": "python",
   "name": "python3"
  },
  "language_info": {
   "codemirror_mode": {
    "name": "ipython",
    "version": 3
   },
   "file_extension": ".py",
   "mimetype": "text/x-python",
   "name": "python",
   "nbconvert_exporter": "python",
   "pygments_lexer": "ipython3",
   "version": "3.10.11"
  }
 },
 "nbformat": 4,
 "nbformat_minor": 2
}
