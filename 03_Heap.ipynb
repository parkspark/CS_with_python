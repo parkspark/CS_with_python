{
 "cells": [
  {
   "cell_type": "markdown",
   "metadata": {},
   "source": [
    "# Data structures (with python) - 3. Heap\n",
    "\n",
    " \n",
    "\n",
    "💡 Heap is a tree-based data structure that follows the properties of a complete binary tree and is either a Min Heap or a Max Heap.\n",
    "\n",
    "힙은 완전한 이진 트리의 속성을 따르는 트리 기반 데이터 구조로, 최소 힙 또는 최대 힙 중 하나입니다.\n",
    "\n",
    " \n",
    "\n",
    "힙(Heap)은 이진트리의 일종으로, 특정한 규칙을 가지고 있는 자료 구조이다.\n",
    "\n",
    "(Tree 는 이진트리, 밸런스 트리, 언밸런스 트리 등등을 차후 다룬다.)"
   ]
  },
  {
   "cell_type": "markdown",
   "metadata": {},
   "source": [
    "힙은 두가지 종류가 있습니다.\n",
    "\n",
    " \n",
    "\n",
    "최대 힙(Max heap) , 최소 힙(Min Heap)\n",
    "\n",
    " \n",
    "\n",
    "최대 힙 : 부모 노드의 키 값이 자식 노드의 키 값보다 항상 크거나 같다.\n",
    "\n",
    "= 즉, 루트 노드가 가장 큰 값을 가진다.\n",
    "\n",
    " \n",
    "\n",
    "최소 힙: 부모 노드의 키 값이 자식 노드의 키 값보다 항상 작거나 가탇.\n",
    "\n",
    "= 즉, 루트 노드가 가장 작은 값을 가진다.\n",
    "\n",
    " \n",
    "\n",
    "힙은 우선순위 큐(Queue)를 구현하는데 주로 사용되며, 이외에도 힙 정렬, 그래프 알고리즘 등 다양한 곳에 활용된다.\n",
    "\n",
    "(큐(Queue) 는 FIFO(First In, First Out) 구조를 가진 자료구조이다. 줄을 서는 것과 유사하며 차후 다룬다.)"
   ]
  },
  {
   "cell_type": "markdown",
   "metadata": {},
   "source": [
    "파이썬에서 힙(Heap)을 구현해보려면 heapq 모듈로 쉽게 구현할 수 있다."
   ]
  },
  {
   "cell_type": "code",
   "execution_count": 1,
   "metadata": {},
   "outputs": [],
   "source": [
    "import heapq\n",
    "\n",
    "heap = []"
   ]
  },
  {
   "cell_type": "markdown",
   "metadata": {},
   "source": [
    "heapq 모델은 기본적으로 최소 힙을 제공한다.\n",
    "\n",
    " \n",
    "\n",
    "이제 힙에 원소를 조작해보자."
   ]
  },
  {
   "cell_type": "code",
   "execution_count": 2,
   "metadata": {},
   "outputs": [
    {
     "name": "stdout",
     "output_type": "stream",
     "text": [
      "[1, 4, 7]\n",
      "1\n",
      "[4, 7]\n",
      "[1, 3, 5, 4, 8, 7]\n"
     ]
    }
   ],
   "source": [
    "# 힙에 원소 추가\n",
    "heapq.heappush(heap, 4)\n",
    "heapq.heappush(heap, 1)\n",
    "heapq.heappush(heap, 7)\n",
    "print(heap)  # 출력: [1, 4, 7]\n",
    "\n",
    "# 힙에 원소 삭제\n",
    "print(heapq.heappop(heap))  # 가장 작은 원소 삭제 후 출력: 1\n",
    "print(heap)  # 출력: [4, 7]\n",
    "\n",
    "\n",
    "# 기존 리스트를 힙으로 변환\n",
    "nums = [4, 1, 7, 3, 8, 5]\n",
    "heapq.heapify(nums)\n",
    "print(nums)  # 출력: [1, 3, 5, 4, 8, 7]"
   ]
  },
  {
   "cell_type": "markdown",
   "metadata": {},
   "source": [
    "주의점은 heapq 모듈은 최소 힙만을 지원하므로,\n",
    "\n",
    "최대 힙을 구현하려면 원소의 부호를 바꿔서 넣고 꺼낼 때 다시 바꿔주는 방법을 사용해야 한다.\n",
    "\n",
    " "
   ]
  },
  {
   "cell_type": "markdown",
   "metadata": {},
   "source": [
    "## 언제 최대 힙을 사용할까?\n",
    "\n",
    "원소들 중에서 가장 큰 원소를 빠르게(!) 찾아야 할 경우이다.\n",
    "\n",
    "이런 경우에는 최대 힙(Max heapq)을 구현해야 하는데, heapq 모듈은 최대 힙을 지원하지 않는다.\n",
    "\n",
    " \n",
    "\n",
    "이런 상황에서 사용할 수 있는 간단한 방법은\n",
    "\n",
    "원소에 힙을 추가할 때 그 값의 부호를 바꾸어 넣는 것이다.\n",
    "\n",
    "즉, 양수를 음수로, 음수를 양수로 바꾸어 넣는다.\n",
    "\n",
    " \n",
    "\n",
    "그러면 원래 가장 큰 원소가 가장 작은 것으로 간주, 힙의 루트 노드에 오게 된다.\n",
    "\n",
    "원소를 꺼낼 떄는 다시 붛를 바꿔 원래의 값을 얻는다."
   ]
  },
  {
   "cell_type": "code",
   "execution_count": 3,
   "metadata": {},
   "outputs": [
    {
     "name": "stdout",
     "output_type": "stream",
     "text": [
      "8\n",
      "7\n"
     ]
    }
   ],
   "source": [
    "import heapq\n",
    "\n",
    "nums = [4, 1, 7, 3, 8, 5]\n",
    "heap = []\n",
    "\n",
    "# 원소를 힙에 추가할 때 부호를 바꿔서 넣음\n",
    "for num in nums:\n",
    "    heapq.heappush(heap, -num)\n",
    "\n",
    "# 원소를 꺼낼 때 부호를 다시 바꿔 원래의 값을 얻음\n",
    "print(-heapq.heappop(heap))  # 출력: 8\n",
    "print(-heapq.heappop(heap))  # 출력: 7\n",
    " "
   ]
  },
  {
   "cell_type": "markdown",
   "metadata": {},
   "source": [
    "## Heap 과 관련된 알고리즘\n",
    "\n",
    "1. 힙 정렬(Heap sort)\n",
    "\n",
    " 최대 힙을 구성한 후, 힙의 루트 노드(최대값)를 배열 마지막 요소와 교환, 힙의 크기를 1 줄인다.\n",
    "\n",
    " 이 과정을 반복하면 배열이 오름차 순으로 정렬된다.\n",
    "\n",
    " \n",
    "\n",
    "2. 우선순위 큐(Priority Queue)\n",
    "\n",
    "  우선 순위 큐는 각 원소가 우선순위를 가지고 있고, 우선순위가 가장 높은 원소부터 꺼내 사용하는 자료구조이다.\n",
    "\n",
    "  힙은 우선순위 큐를 구현하는데 많이 사용된다.\n",
    "\n",
    " \n",
    "\n",
    "3. 다익스트라 알고리즘(Dijkstra's Algorithm)\n",
    "\n",
    "  앞서 2-4. Graph representation 의 2-4-2. adjacency list에서 언급만 하고 넘어갔는데,\n",
    "\n",
    "  다익스트라 알고리즘은 그래프의 한 노드에서 다른 노드로 가는 최단 경로를 찾는 알고리즘이다.\n",
    "\n",
    "  이 알고리즘은 우선순위 큐를 사용해 구현되며, 이 때 힙이 주로 사용된다.\n",
    "\n",
    " \n",
    "\n",
    "4. 히프화(Heapify)\n",
    "\n",
    "  히프화는 주어진 데이터를 힙 구조를 만족하도록 재배열 하는 과정.\n",
    "\n",
    "  주로 힙 정렬, 힙 생성 등에 사용된다."
   ]
  }
 ],
 "metadata": {
  "kernelspec": {
   "display_name": "Python 3",
   "language": "python",
   "name": "python3"
  },
  "language_info": {
   "codemirror_mode": {
    "name": "ipython",
    "version": 3
   },
   "file_extension": ".py",
   "mimetype": "text/x-python",
   "name": "python",
   "nbconvert_exporter": "python",
   "pygments_lexer": "ipython3",
   "version": "3.10.11"
  }
 },
 "nbformat": 4,
 "nbformat_minor": 2
}
