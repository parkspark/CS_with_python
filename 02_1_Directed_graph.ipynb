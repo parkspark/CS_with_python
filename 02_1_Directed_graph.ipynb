{
 "cells": [
  {
   "cell_type": "markdown",
   "metadata": {},
   "source": [
    "# Data structures (with python) - 2. Graph - 2.1. Directed graph\n",
    "\n",
    "💡 A directed graph is graph, i.e., a set of objects (called vertices or nodes) that are connected together, where all the edges are directed from one vertex to another. A directed graph is sometimes called a digraph or a directed network. In contrast, a graph where the edges are bidirectional is called an undirected graph.\n",
    "\n",
    "방향성 그래프는 서로 연결된 객체(정점 또는 노드라고 함)의 집합으로, 모든 가장자리가 한 정점에서 다른 정점으로 향하는 그래프입니다. 방향성 그래프는 이중그래프(digraph) 또는 방향성 네트워크라고도 불립니다. 이와 대조적으로, 가장자리가 양방향인 그래프를 무방향 그래프라고 합니다."
   ]
  },
  {
   "cell_type": "markdown",
   "metadata": {},
   "source": [
    "with python 이니 파이썬에서 방향성 그래프에 대해 알아봅시다.\n",
    "\n",
    "파이썬에서 방향성 그래프 (Directed Graph) 를 구현하고 탐색하는 방법.\n",
    "\n",
    "인접 리스트(Adjacency List)을 사용해서 설명하겠습니다.\n",
    "\n",
    "(인접리스트 추후 다루기)"
   ]
  },
  {
   "cell_type": "code",
   "execution_count": null,
   "metadata": {},
   "outputs": [],
   "source": [
    "class DirectedGraph:\n",
    "    def __init__(self):\n",
    "        self.graph = {}\n",
    "\n",
    "    def add_edge(self, node, neighbour):   \n",
    "        if node not in self.graph:\n",
    "            self.graph[node] = [neighbour]\n",
    "        else:\n",
    "            self.graph[node].append(neighbour)"
   ]
  }
 ],
 "metadata": {
  "language_info": {
   "name": "python"
  }
 },
 "nbformat": 4,
 "nbformat_minor": 2
}
