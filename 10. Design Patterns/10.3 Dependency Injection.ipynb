{
 "cells": [
  {
   "cell_type": "markdown",
   "metadata": {},
   "source": [
    "# cs - 10. Design Patterns - 10.3 Dependency Injection\n",
    "\n",
    "Dependency Injection\n",
    "Dependency injection is a software design pattern that allows us to decouple the dependencies of a class from the class itself. This allows us to write more flexible and testable code.\n",
    "\n",
    " \n",
    "\n",
    "의존성 주입은 클래스의 종속성을 클래스 자체에서 분리할 수 있는 소프트웨어 디자인 패턴입니다. 이를 통해 보다 유연하고 테스트 가능한 코드를 작성할 수 있습니다."
   ]
  },
  {
   "cell_type": "markdown",
   "metadata": {},
   "source": [
    "### 의존성 주입(Dependency Injection)\n",
    "\n",
    "소프트웨어 엔지니어링에서 의존성 주입(Dependency Injection, DI)은 컴포넌트 간의 의존 관계를 외부에서 결정하고 제공하는 설계 패턴입니다. 이 패턴은 컴포넌트가 자신의 의존성을 직접 생성하지 않고, 외부의 도움을 받아 해당 의존성을 주입받는 방식으로 작동합니다. 이를 통해 모듈 간의 결합도를 낮추고, 유지보수성 및 테스트 용이성을 향상시킬 수 있습니다."
   ]
  },
  {
   "cell_type": "markdown",
   "metadata": {},
   "source": [
    "### 의존성 주입의 장점\n",
    "\n",
    "1. 결합도 감소\n",
    "객체가 자신의 의존성을 직접 생성하거나 관리하지 않으므로, 모듈 간의 결합도가 현저히 감소합니다. 이는 시스템의 유연성과 확장성을 증가시킵니다.\n",
    "\n",
    "2. 유닛 테스트 용이\n",
    "의존성 주입을 사용하면, 테스트 중인 객체에 가짜(mock) 객체나 스텁(stub)을 쉽게 주입할 수 있습니다. 이는 유닛 테스트를 보다 쉽고 효율적으로 만듭니다.\n",
    "\n",
    "3. 코드 재사용 증가\n",
    "의존성 주입을 통해 개발된 컴포넌트는 보다 일반적이고 재사용 가능합니다. 이는 코드의 중복을 줄이고, 프로젝트의 일관성을 유지하는 데 도움이 됩니다.\n",
    "\n",
    "4. 의존성 관리의 중앙화\n",
    "의존성 주입을 사용하면, 모든 의존성 관리가 애플리케이션의 한 곳에서 이루어집니다. 이는 의존성 관리를 보다 효율적으로 만들어 줍니다."
   ]
  },
  {
   "cell_type": "code",
   "execution_count": 1,
   "metadata": {},
   "outputs": [
    {
     "name": "stdout",
     "output_type": "stream",
     "text": [
      "이메일을 통해 메시지를 발송합니다: 안녕하세요, 이메일 사용자 여러분!\n",
      "SMS를 통해 메시지를 발송합니다: 안녕하세요, SMS 사용자 여러분!\n"
     ]
    }
   ],
   "source": [
    "from abc import ABC, abstractmethod\n",
    "\n",
    "# MessageSender 인터페이스 정의\n",
    "class MessageSender(ABC):\n",
    "    @abstractmethod\n",
    "    def send(self, message):\n",
    "        pass\n",
    "\n",
    "# EmailSender 구현\n",
    "class EmailSender(MessageSender):\n",
    "    def send(self, message):\n",
    "        print(f\"이메일을 통해 메시지를 발송합니다: {message}\")\n",
    "\n",
    "# SMSSender 구현\n",
    "class SMSSender(MessageSender):\n",
    "    def send(self, message):\n",
    "        print(f\"SMS를 통해 메시지를 발송합니다: {message}\")\n",
    "\n",
    "# NotificationManager 클래스\n",
    "class NotificationManager:\n",
    "    def __init__(self, sender: MessageSender):\n",
    "        self.sender = sender\n",
    "\n",
    "    def notify(self, message):\n",
    "        self.sender.send(message)\n",
    "\n",
    "# 의존성 주입 및 사용 예시\n",
    "if __name__ == \"__main__\":\n",
    "    email_sender = EmailSender()\n",
    "    sms_sender = SMSSender()\n",
    "\n",
    "    # EmailSender를 사용하는 NotificationManager 인스턴스 생성\n",
    "    email_notification_manager = NotificationManager(email_sender)\n",
    "    email_notification_manager.notify(\"안녕하세요, 이메일 사용자 여러분!\")\n",
    "\n",
    "    # SMSSender를 사용하는 NotificationManager 인스턴스 생성\n",
    "    sms_notification_manager = NotificationManager(sms_sender)\n",
    "    sms_notification_manager.notify(\"안녕하세요, SMS 사용자 여러분!\")\n"
   ]
  },
  {
   "cell_type": "markdown",
   "metadata": {},
   "source": [
    "위 코드는 생성자 주입(Constructor Injection)을 사용해서 구현한 것입니다.\n",
    "\n",
    "MessageSender 인터페이스를 가지며, 이를 구현하는 EmailSender 와 SMSSender  클래스가 있습니다.\n",
    "\n",
    "NotificationManager 클래스는 MessageSender  인스턴스를 생성자를 통해 주입받아 메시지를 발송하는 역할을 합니다."
   ]
  },
  {
   "cell_type": "markdown",
   "metadata": {},
   "source": [
    "NotificationManager가 메시지 발송방법 (Email or SMS)에 대해 전혀 알 필요가 없습니다.\n",
    "\n",
    "발송 방법은 외부에서 NotificationManager에 주입되므로, 결합도가 낮아지고 유연성이 높아집니다.\n",
    "\n",
    "코드의 재사용성과 테스트 용이성이 향상됩니다."
   ]
  }
 ],
 "metadata": {
  "kernelspec": {
   "display_name": "Python 3",
   "language": "python",
   "name": "python3"
  },
  "language_info": {
   "codemirror_mode": {
    "name": "ipython",
    "version": 3
   },
   "file_extension": ".py",
   "mimetype": "text/x-python",
   "name": "python",
   "nbconvert_exporter": "python",
   "pygments_lexer": "ipython3",
   "version": "3.7.9"
  }
 },
 "nbformat": 4,
 "nbformat_minor": 2
}
