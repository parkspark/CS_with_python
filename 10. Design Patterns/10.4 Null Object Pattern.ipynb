{
 "cells": [
  {
   "cell_type": "markdown",
   "metadata": {},
   "source": [
    "※[https://roadmap.sh/computer-science]를 따라서 공부하고 기록한 글입니다.\n",
    "\n",
    "# cs - 10. Design Patterns - 10.4 Null Object Pattern\n",
    "\n",
    "### Null Object Pattern\n",
    "Null object pattern is a design pattern that is used to represent a null value with an object. It is a way to avoid null reference exceptions by providing a default object that does nothing. It is a way to provide a default behavior in case data is not available.\n",
    "\n",
    " \n",
    "\n",
    "널 객체 패턴은 객체로 널 값을 표현하는 데 사용되는 디자인 패턴입니다. 아무 작업도 수행하지 않는 기본 객체를 제공하여 널 참조 예외를 방지하는 방법입니다. 데이터를 사용할 수 없는 경우 기본 동작을 제공하는 방법입니다."
   ]
  },
  {
   "cell_type": "markdown",
   "metadata": {},
   "source": [
    "### Null Object Pattern\n",
    " \n",
    "\n",
    "널 오브젝트 패턴은 널(null)참조를 체크하는 대신 널 객체를 사용해 널 참조를 대신 하는 패턴입니다. 이 패턴은 주요 목적은 코드 내에서 널 체크를 줄여 가독성, 유지보수성을 향상시켜, 널 참조로 인해 발생할 수 있는 예외나 오류를 미연에 방지하는 것입니다."
   ]
  },
  {
   "cell_type": "markdown",
   "metadata": {},
   "source": [
    "### Null Object Pattern 의 주요 구성 요소\n",
    "1. 추상 컴포넌트(Abstract Component)\n",
    "\n",
    " 인터페이스나 추상 클래스로, 널 객체와 실제 객체가 구현해야 하는 메서드를 정의\n",
    "\n",
    " \n",
    "\n",
    "2. 실제 객체 (Real Object)\n",
    "\n",
    "실제로 기능을 제공하는 클래스, 추상 컴포넌트를 상속하거나 구현합니다.\n",
    "\n",
    " \n",
    "\n",
    "3. 널 객체(Null Object)\n",
    "\n",
    "추상 컴포넌트를 상속하거나 구현하지만, 실제 작업 수행 x or 기본값 반환.\n",
    "\n",
    " \n",
    "\n",
    "4. 클라이언트 (Client)\n",
    "\n",
    "실제 객체와 널 객체를 사용하는 코드 부분, 이 패턴을 사용해서 에서 널 체크를 줄일수 있습니다.\n",
    "\n",
    " \n",
    "\n",
    " \n",
    "\n",
    "장점을 정리해보자면\n",
    "\n",
    "1. 널 체크 감소\n",
    "\n",
    "2. 안정성 향상\n",
    "\n",
    "3. 디폴트 동작 제공\n",
    "\n",
    "이 있습니다."
   ]
  },
  {
   "cell_type": "code",
   "execution_count": 8,
   "metadata": {},
   "outputs": [
    {
     "name": "stdout",
     "output_type": "stream",
     "text": [
      "Logging: 이 메시지는 로그에 기록됩니다.\n"
     ]
    }
   ],
   "source": [
    "from abc import ABC, abstractmethod\n",
    "# 1. 로그 기록기 인터페이스\n",
    "\n",
    "class Logger(ABC):\n",
    "    @abstractmethod\n",
    "    def log(self, message: str) -> None:\n",
    "        pass\n",
    "\n",
    "# 2. 실제 로그 기록기 구현(real)\n",
    "\n",
    "class RealLogger(Logger):\n",
    "    def log(self, message: str) -> None:\n",
    "        print(f\"Logging: {message}\")\n",
    "\n",
    "# 3. 널 객체 (Null)\n",
    "\n",
    "class NullLogger(Logger):\n",
    "    def log(self, message: str) -> None:\n",
    "        pass  \n",
    "\n",
    "def main():\n",
    "    # 로그를 기록해야 하는 경우\n",
    "    logger = RealLogger()\n",
    "    logger.log(\"이 메시지는 로그에 기록됩니다.\")\n",
    "\n",
    "    # 로그를 기록하지 않아도 되는 경우\n",
    "    no_logging_needed = NullLogger()\n",
    "    no_logging_needed.log(\"이 메시지는 기록되지 않습니다.\")\n",
    "\n",
    "if __name__ == \"__main__\":\n",
    "    main()\n",
    "\n"
   ]
  },
  {
   "cell_type": "code",
   "execution_count": 12,
   "metadata": {},
   "outputs": [
    {
     "name": "stdout",
     "output_type": "stream",
     "text": [
      "n\n"
     ]
    }
   ],
   "source": [
    "def main():\n",
    "    # 사용자 입력을 받아 로그 기록 여부를 결정\n",
    "    user_input = input(\"로그를 기록하시겠습니까? (y/n): \")\n",
    "\n",
    "    if user_input.lower() == 'y':\n",
    "        logger = RealLogger()\n",
    "    else:\n",
    "        logger = NullLogger()\n",
    "\n",
    "    # 로그 기록 여부에 따라 다른 로거 사용\n",
    "    print(user_input)\n",
    "    logger.log(\"이 메시지는 y면 기록, n 이면 기록 x\")\n",
    "\n",
    "if __name__ == \"__main__\":\n",
    "    main()"
   ]
  }
 ],
 "metadata": {
  "kernelspec": {
   "display_name": "Python 3",
   "language": "python",
   "name": "python3"
  },
  "language_info": {
   "codemirror_mode": {
    "name": "ipython",
    "version": 3
   },
   "file_extension": ".py",
   "mimetype": "text/x-python",
   "name": "python",
   "nbconvert_exporter": "python",
   "pygments_lexer": "ipython3",
   "version": "3.7.9"
  }
 },
 "nbformat": 4,
 "nbformat_minor": 2
}
