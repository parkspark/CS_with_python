{
 "cells": [
  {
   "cell_type": "markdown",
   "metadata": {},
   "source": [
    "# Data structures (with python) - 2. Graph - 2.2. Undirected graph\n",
    "\n",
    " \n",
    "\n",
    "💡 An undirected graph is graph, i.e., a set of objects (called vertices or nodes) that are connected together, where all the edges are bidirectional. An undirected graph is sometimes called an undirected network. In contrast, a graph where the edges point in a direction is called a directed graph.\n",
    "\n",
    " \n",
    "\n",
    "방향성 없는 그래프는 그래프, 즉 모든 가장자리가 양방향인 객체(정점 또는 노드라고 함)의 집합으로 서로 연결되어 있는 그래프입니다. 방향성 없는 그래프를 방향성 없는 네트워크라고도 합니다. 이와는 대조적으로, 가장자리가 한 방향을 가리키는 그래프를 방향성 그래프라고 합니다."
   ]
  },
  {
   "cell_type": "markdown",
   "metadata": {},
   "source": [
    "파이썬에서 역시 undirected graph 를 설명하는 방법은 \n",
    "앞선 directed graph에서 설명할때 사용했던 인접리스트(Adjacency List)와 인접 행렬(Adjacency Matrix)를 이용한다."
   ]
  },
  {
   "cell_type": "markdown",
   "metadata": {},
   "source": [
    "1. 인접 리스트 (Adjacency List)\n",
    "\n",
    "- 인접 리스트는 그래프의 각 노드에 대한 인접 노드의 리스트를 저장하는 방식.\n",
    "\n",
    "- 파이썬에서는 딕셔너리와 리스트를 이용해서 인접 리스트를 표현할 수 있다."
   ]
  },
  {
   "cell_type": "code",
   "execution_count": null,
   "metadata": {},
   "outputs": [],
   "source": [
    "graph = {\n",
    "    'A': ['B', 'C'],\n",
    "    'B': ['A', 'D', 'E'],\n",
    "    'C': ['A', 'F'],\n",
    "    'D': ['B'],\n",
    "    'E': ['B', 'F'],\n",
    "    'F': ['C', 'E'],\n",
    "}"
   ]
  },
  {
   "cell_type": "markdown",
   "metadata": {},
   "source": [
    "이 graph는 'A':['B','C']는 A 노드가 B와 C 노드와 연결되어 있따는 것을 의미한다."
   ]
  },
  {
   "cell_type": "markdown",
   "metadata": {},
   "source": [
    "2. 인접행렬 (Adjacency Matrix)\n",
    "\n",
    "- 인접 행렬은 그래프의 각 노드가 다른 노드와 연결되어 있는지를 이진값(0 또는 1)으로 표현한 2차원 행렬\n",
    "\n",
    "- 파이썬에서는 2차원 리스트를 이용해 인접 행렬을 표현할수 있다."
   ]
  },
  {
   "cell_type": "code",
   "execution_count": 1,
   "metadata": {},
   "outputs": [],
   "source": [
    "graph = [\n",
    "    [0, 1, 1, 0, 0, 0],\n",
    "    [1, 0, 0, 1, 1, 0],\n",
    "    [1, 0, 0, 0, 0, 1],\n",
    "    [0, 1, 0, 0, 0, 0],\n",
    "    [0, 1, 0, 0, 0, 1],\n",
    "    [0, 0, 1, 0, 1, 0]\n",
    "]"
   ]
  },
  {
   "cell_type": "markdown",
   "metadata": {},
   "source": [
    "이 인접행렬은 6개의 노드가 있는 무방향 그래프이다.\n",
    "\n",
    "노드 0 - 1,2 연결\n",
    "\n",
    "1 - 0,3,4 연결\n",
    "\n",
    "2 - 0,5 연결\n",
    "\n",
    "3 - 1 연결\n",
    "\n",
    "4 - 1,5 연결\n",
    "\n",
    "5 - 2,4 연결\n",
    "\n",
    " \n",
    "\n",
    "(차후 그림 추가)"
   ]
  },
  {
   "cell_type": "code",
   "execution_count": 3,
   "metadata": {},
   "outputs": [],
   "source": [
    "class UndirectedGraph:\n",
    "    def __init__(self):\n",
    "        self.graph = {}\n",
    "\n",
    "    def add_edge(self, node, neighbour):   \n",
    "        if node not in self.graph:\n",
    "            self.graph[node] = [neighbour]\n",
    "        else:\n",
    "            self.graph[node].append(neighbour)\n",
    "        \n",
    "        if neighbour not in self.graph:\n",
    "            self.graph[neighbour] = [node]\n",
    "        else:\n",
    "            self.graph[neighbour].append(node)\n",
    "            \n",
    "    def bfs(self, node): # 들여쓰기 주의\n",
    "        visited = []\n",
    "        queue = [node]\n",
    "\n",
    "        while queue:\n",
    "            current_node = queue.pop(0)\n",
    "            if current_node not in visited:\n",
    "                visited.append(current_node)\n",
    "                if current_node in self.graph:\n",
    "                    queue.extend(self.graph[current_node])\n",
    "        return visited"
   ]
  },
  {
   "cell_type": "markdown",
   "metadata": {},
   "source": [
    "위의 코드에서 add_edge 메서드를 사용해 노드 간의 엣지를 추가할 수 있다.\n",
    "\n",
    "이 메서드는 무방향성 엣지를 표현, 노드에서 이웃노드로 그리고 이웃노드에서 노드로 양방향으로 연결된다.\n",
    "\n",
    " \n",
    "\n",
    "앞서 Directed graph에서는 DFS로 그래프를 탐사했기에, 이번에는 BFS로 탐사해본다.\n",
    "\n",
    "이 그래프를 BFS하는 메서드로 노드를 차례대로 탐색하는 메서드를 추가한다.\n",
    "\n",
    " \n",
    "\n",
    "위의 메서드에서 visited는 방문한 노드들의 목록을 저장하는 리스트,\n",
    "queue는 방문할 노드들을 저장하는 리스트."
   ]
  },
  {
   "cell_type": "code",
   "execution_count": 4,
   "metadata": {},
   "outputs": [
    {
     "name": "stdout",
     "output_type": "stream",
     "text": [
      "['A', 'B', 'C', 'D']\n"
     ]
    }
   ],
   "source": [
    "g = UndirectedGraph()\n",
    "g.add_edge('A', 'B')\n",
    "g.add_edge('A', 'C')\n",
    "g.add_edge('B', 'D')\n",
    "g.add_edge('C', 'D')\n",
    "\n",
    "print(g.bfs('A'))  # ['A', 'B', 'C', 'D']"
   ]
  },
  {
   "cell_type": "markdown",
   "metadata": {},
   "source": [
    "위의 코드에서 'A' 노드에서 시작하여 BFS를 수행하면, 'B', 'D', 'C'순서로 노드를 방문하게 됩니다."
   ]
  }
 ],
 "metadata": {
  "kernelspec": {
   "display_name": "Python 3",
   "language": "python",
   "name": "python3"
  },
  "language_info": {
   "codemirror_mode": {
    "name": "ipython",
    "version": 3
   },
   "file_extension": ".py",
   "mimetype": "text/x-python",
   "name": "python",
   "nbconvert_exporter": "python",
   "pygments_lexer": "ipython3",
   "version": "3.10.11"
  }
 },
 "nbformat": 4,
 "nbformat_minor": 2
}
