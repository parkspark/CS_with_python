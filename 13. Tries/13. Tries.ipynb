{
 "cells": [
  {
   "cell_type": "markdown",
   "metadata": {},
   "source": [
    "# Tries\n",
    "\n",
    "Tries are a data structure that can be used to store strings. The idea is to store the characters of the string in a tree-like structure, where each node of the tree represents a single character. We can use this structure to store strings in a way that allows us to quickly search for strings with a common prefix.\n",
    "\n",
    "\n",
    "\n",
    "트라이는 문자열을 저장하는 데 사용할 수 있는 데이터 구조입니다. 이 아이디어는 문자열의 문자를 트리와 같은 구조에 저장하는 것으로, 트리의 각 노드는 하나의 문자를 나타냅니다. 이 구조를 사용하면 공통 접두사가 있는 문자열을 빠르게 검색할 수 있는 방식으로 문자열을 저장할 수 있습니다.\n",
    "\n",
    "\n"
   ]
  },
  {
   "cell_type": "markdown",
   "metadata": {},
   "source": [
    "Tries, 또는 접두사 트리는 문자열을 저장하기 위한 트리 기반의 데이터 구조로, 각 노드가 알파벳의 한 문자를 나타내는 방식으로 구성됩니다. 이 구조는 공통 접두사를 가진 문자열을 빠르게 검색할 수 있게 해주는 특징을 가지고 있습니다.\n",
    "\n",
    "\n",
    "\n",
    "Tries는 알파벳 위에 문자열을 저장하기 위해 사용되는 다방향 트리 데이터 구조입니다. 문자열을 저장하고 검색하는 데 사용됩니다.\n",
    "\n",
    "Tries는 트리와 같은 데이터 구조로, 노드들이 알파벳의 글자를 저장합니다. 노드를 특정 방식으로 구성함으로써, 단어와 접두사를 효율적으로 저장하고 검색할 수 있습니다.\n",
    "\n"
   ]
  },
  {
   "cell_type": "markdown",
   "metadata": {},
   "source": [
    "# In Python"
   ]
  },
  {
   "cell_type": "code",
   "execution_count": 1,
   "metadata": {},
   "outputs": [],
   "source": [
    "class TrieNode:\n",
    "    def __init__(self):\n",
    "        self.children = {}  # 자식 노드를 저장하는 딕셔너리\n",
    "        self.is_end_of_word = False  # 단어의 끝\n",
    "\n",
    "class Trie:\n",
    "    def __init__(self):\n",
    "        self.root = TrieNode()\n",
    "\n",
    "    def insert(self, word):\n",
    "        node = self.root\n",
    "        for char in word:\n",
    "            if char not in node.children:\n",
    "                node.children[char] = TrieNode()\n",
    "            node = node.children[char]\n",
    "        node.is_end_of_word = True\n",
    "\n",
    "    def search(self, word):\n",
    "        node = self.root\n",
    "        for char in word:\n",
    "            if char not in node.children:\n",
    "                return False\n",
    "            node = node.children[char]\n",
    "        return node.is_end_of_word\n",
    "\n",
    "    def starts_with(self, prefix):\n",
    "        node = self.root\n",
    "        for char in prefix:\n",
    "            if char not in node.children:\n",
    "                return False\n",
    "            node = node.children[char]\n",
    "        return True\n"
   ]
  },
  {
   "cell_type": "code",
   "execution_count": 2,
   "metadata": {},
   "outputs": [
    {
     "name": "stdout",
     "output_type": "stream",
     "text": [
      "True\n",
      "True\n",
      "False\n",
      "True\n",
      "True\n",
      "True\n"
     ]
    }
   ],
   "source": [
    "# Trie 생성\n",
    "trie = Trie()\n",
    "\n",
    "# 단어 삽입\n",
    "trie.insert(\"apple\")\n",
    "trie.insert(\"app\")\n",
    "trie.insert(\"april\")\n",
    "\n",
    "# 단어 검색\n",
    "print(trie.search(\"apple\"))  # True\n",
    "print(trie.search(\"app\"))  # True\n",
    "print(trie.search(\"apri\"))  # False\n",
    "\n",
    "# 접두사로 시작하는지 검사\n",
    "print(trie.starts_with(\"app\"))  # True\n",
    "print(trie.starts_with(\"apr\"))  # True\n",
    "print(trie.starts_with(\"a\"))  # True\n"
   ]
  },
  {
   "cell_type": "markdown",
   "metadata": {},
   "source": [
    "\"apple\", \"app\", \"april\" 세 단어를 Trie에 삽입하고, 이들 단어 및 다른 문자열들에 대한 검색 및 접두사 검사를 수행.\n",
    "search 메소드는 정확한 단어가 Trie에 존재하는지 검사하며, starts_with 메소드는 주어진 접두사로 시작하는 단어가 Trie에 있는지 여부를 검사합니다."
   ]
  }
 ],
 "metadata": {
  "kernelspec": {
   "display_name": "Python 3",
   "language": "python",
   "name": "python3"
  },
  "language_info": {
   "codemirror_mode": {
    "name": "ipython",
    "version": 3
   },
   "file_extension": ".py",
   "mimetype": "text/x-python",
   "name": "python",
   "nbconvert_exporter": "python",
   "pygments_lexer": "ipython3",
   "version": "3.7.9"
  }
 },
 "nbformat": 4,
 "nbformat_minor": 2
}
