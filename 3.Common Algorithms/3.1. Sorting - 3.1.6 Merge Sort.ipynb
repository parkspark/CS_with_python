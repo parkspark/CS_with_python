{
 "cells": [
  {
   "cell_type": "markdown",
   "metadata": {},
   "source": [
    "# CS - 3. Common Algorithms - 3.1. Sorting - 3.1.6 Merge Sort\n",
    "\n",
    " \n",
    "\n",
    "💡Merge sort is a divide and conquer algorithm. It divides the input array into two halves, calls itself for the two halves, and then merges the two sorted halves. The merge() function is used for merging two halves. The merge(arr, l, m, r) is key process that assumes that arr[l..m] and arr[m+1..r] are sorted and merges the two sorted sub-arrays into one.\n",
    "\n",
    " \n",
    "\n",
    "병합 정렬은 분할 및 정복 알고리즘입니다. 이 함수는 입력 배열을 두 개의 반으로 나누고, 두 개의 반에 대해 스스로를 호출한 다음 정렬된 두 개의 반을 병합합니다. merge() 함수는 두 개의 반쪽을 병합하는 데 사용됩니다. merge(arr, l, m, r)는 배열[l..m]과 배열[m+1..r]이 정렬되어 있다고 가정하고 정렬된 두 개의 하위 배열을 하나로 병합하는 핵심 프로세스입니다."
   ]
  },
  {
   "cell_type": "markdown",
   "metadata": {},
   "source": [
    "정렬 Sorting 의 마지막 Merge sort 병합 정렬입니다.\n",
    "\n",
    " \n",
    "\n",
    "병합 정렬은 퀵정렬과 마찬가지로 분할정복 방식의 정렬 알고리즘입니다.\n",
    "\n",
    "주어진 문제를 작은 부분으로 나눈 뒤 각각을 해결하고, 이를 다시 합쳐서 전체 문제를 해결하는 방식을 사용합니다."
   ]
  },
  {
   "cell_type": "markdown",
   "metadata": {},
   "source": [
    " \n",
    "\n",
    "병합 정렬의 동작 과정은 이렇습니다.\n",
    "\n",
    " \n",
    "\n",
    "1. 주어진 배열을 절반씩 나눕니다.\n",
    "\n",
    "이를 재귀적으로 반복하여 배열의 길이가 1이 될 때 까지 나눕니다.\n",
    "\n",
    "길이가 1인 배열은 자연스럽게 정렬된 상태로 간주합니다.\n",
    "\n",
    " \n",
    "\n",
    "2. 이렇게 나눈 배열들을 다시 합치면서 정렬합니다.\n",
    "\n",
    "이를 병합(Merge)라고 하며, 이 과정에서 실제 정렬이 이루어 집니다.\n",
    "\n",
    "이를 재귀적으로 반복하여 전체 배열이 정렬될 떄까지 수행합니다."
   ]
  },
  {
   "cell_type": "markdown",
   "metadata": {},
   "source": [
    "## In Python\n",
    " \n"
   ]
  },
  {
   "cell_type": "code",
   "execution_count": null,
   "metadata": {},
   "outputs": [],
   "source": [
    "\n",
    "def merge_sort(arr):\n",
    "    if len(arr) <= 1:\n",
    "        return arr\n",
    "\n",
    "    mid = len(arr) // 2\n",
    "    left = arr[:mid]\n",
    "    right = arr[mid:]\n",
    "\n",
    "    return merge(merge_sort(left), merge_sort(right))\n",
    "\n",
    "def merge(left, right):\n",
    "    result = []\n",
    "    i = j = 0\n",
    "\n",
    "    while i < len(left) and j < len(right):\n",
    "        if left[i] < right[j]:\n",
    "            result.append(left[i])\n",
    "            i += 1\n",
    "        else:\n",
    "            result.append(right[j])\n",
    "            j += 1\n",
    "\n",
    "    result.extend(left[i:])\n",
    "    result.extend(right[j:])\n",
    "    return result"
   ]
  },
  {
   "cell_type": "markdown",
   "metadata": {},
   "source": [
    "병합 정렬은 항상 O(n log n)의 시간 복잡도를 가집니다.\n",
    "\n",
    "이는 각 단계에서 n개의 원소를 다루고, 전체 단계의 수가 log n이기 떄문입니다.\n",
    "\n",
    " \n",
    "\n",
    "병합 정렬은 안정적인 정렬 알고리즘이므로 동일한 값에 대해 원래의 순서가 유지되는 것이 중요한 상황에서 유용합니다.\n",
    "\n",
    "또한 데이터의 크기가 크거나, 외부 정렬이 필요한 경우에도 사용됩니다. 그러나 병합 정렬은 추가적인 메모리 공간을 필요로 하는데, 이는 병합 과정에서 새로운 배열을 생성하기 때문입니다. \n",
    "\n",
    "따라서 메모리가 제한적인 상황에서는 사용하기 어려울 수 있습니다. "
   ]
  },
  {
   "cell_type": "markdown",
   "metadata": {},
   "source": [
    " \n",
    "\n",
    "병합 정렬에서의 '안정성'이란, 동일한 값을 가진 원소들 사이의 상대적 순서가 정렬 후에도 유지된다는 것 입니다."
   ]
  }
 ],
 "metadata": {
  "language_info": {
   "name": "python"
  }
 },
 "nbformat": 4,
 "nbformat_minor": 2
}
