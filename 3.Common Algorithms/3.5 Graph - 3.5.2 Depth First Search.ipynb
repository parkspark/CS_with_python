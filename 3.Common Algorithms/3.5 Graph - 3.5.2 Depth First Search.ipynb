{
 "cells": [
  {
   "cell_type": "markdown",
   "metadata": {},
   "source": [
    "# CS - 3. Common Algorithms - 3.5 Graph - 3.5.2 Depth First Search(DFS)\n",
    "\n",
    "Depth First Search\n",
    "💡Depth first search is a graph traversal algorithm that starts at a root node and explores as far as possible along each branch before backtracking.\n",
    "\n",
    "깊이 우선 검색은 루트 노드에서 시작하여 각 분기를 따라 가능한 한 멀리 탐색한 후 역추적하는 그래프 탐색 알고리즘입니다."
   ]
  },
  {
   "cell_type": "markdown",
   "metadata": {},
   "source": [
    "먼저, 깊이 우선 탐색(Depth First Search, DFS)에 대해 설명드리겠습니다.\n",
    "\n",
    "DFS는 루트 노드(혹은 다른 임의의 노드)에서 시작해서 다음 분기(branch)로 넘어가기 전에 해당 분기를 완벽하게 탐색하는 알고리즘입니다. 데이터의 구조가 트리 혹은 그래프 형태일 때 사용하며, 모든 노드를 방문하고자 하는 경우에 이 방법을 선택합니다.\n"
   ]
  },
  {
   "cell_type": "markdown",
   "metadata": {},
   "source": [
    "DFS의 동작 과정은 다음과 같습니다\n",
    "\n",
    "1. 루트 노드를 스택에 넣습니다.\n",
    "2. 현재 스택의 맨 위 노드를 확인합니다.\n",
    "3. 현재 노드에 방문하지 않은 인접 노드가 있으면 그 노드를 스택에 넣고 방문처리를 합니다. 방문하지 않은 인접 노드가 없으면 스택에서 맨 위 노드를 꺼냅니다.\n",
    "4. 더 이상 2번의 과정을 진행할 수 없을 때까지 반복합니다.\n",
    "\n",
    " \n",
    "\n",
    "주의점은 깊이가 무한대가 될 때이다. 특히 루프(회로)가 있는경우 DFS는 엣지를 탈출할수 없게 된다.\n",
    "\n",
    "깊이가 아주 깊어도 스택 오버플로우가 발생할수 있으므로 주의해야한다."
   ]
  },
  {
   "cell_type": "markdown",
   "metadata": {},
   "source": [
    "## In Python\n",
    "DFS를 구현하는 방법에는 스택배열과 재귀(3.2. Recursion)를 사용할수도 있다.\n",
    "\n",
    "\n",
    "#### 3.5.2.1 DFS - 스택배열로 구현하기"
   ]
  },
  {
   "cell_type": "code",
   "execution_count": 9,
   "metadata": {},
   "outputs": [],
   "source": [
    "def DFS(graph, root):\n",
    "    visited = []\n",
    "    stack = [root]\n",
    "\n",
    "    while stack:\n",
    "        n = stack.pop()\n",
    "        if n not in visited:\n",
    "            visited.append(n)\n",
    "            stack += graph[n] - set(visited)\n",
    "    return visited\n"
   ]
  },
  {
   "cell_type": "code",
   "execution_count": 10,
   "metadata": {},
   "outputs": [
    {
     "ename": "TypeError",
     "evalue": "unsupported operand type(s) for -: 'list' and 'set'",
     "output_type": "error",
     "traceback": [
      "\u001b[1;31m---------------------------------------------------------------------------\u001b[0m",
      "\u001b[1;31mTypeError\u001b[0m                                 Traceback (most recent call last)",
      "Cell \u001b[1;32mIn[10], line 11\u001b[0m\n\u001b[0;32m      1\u001b[0m graph \u001b[38;5;241m=\u001b[39m {\n\u001b[0;32m      2\u001b[0m     \u001b[38;5;241m1\u001b[39m: [\u001b[38;5;241m2\u001b[39m, \u001b[38;5;241m3\u001b[39m],\n\u001b[0;32m      3\u001b[0m     \u001b[38;5;241m2\u001b[39m: [\u001b[38;5;241m4\u001b[39m, \u001b[38;5;241m5\u001b[39m],\n\u001b[1;32m   (...)\u001b[0m\n\u001b[0;32m      8\u001b[0m     \u001b[38;5;241m7\u001b[39m: []\n\u001b[0;32m      9\u001b[0m }\n\u001b[1;32m---> 11\u001b[0m \u001b[38;5;28mprint\u001b[39m(\u001b[43mDFS\u001b[49m\u001b[43m(\u001b[49m\u001b[43mgraph\u001b[49m\u001b[43m,\u001b[49m\u001b[43m \u001b[49m\u001b[38;5;241;43m1\u001b[39;49m\u001b[43m)\u001b[49m)\n",
      "Cell \u001b[1;32mIn[9], line 9\u001b[0m, in \u001b[0;36mDFS\u001b[1;34m(graph, root)\u001b[0m\n\u001b[0;32m      7\u001b[0m     \u001b[38;5;28;01mif\u001b[39;00m n \u001b[38;5;129;01mnot\u001b[39;00m \u001b[38;5;129;01min\u001b[39;00m visited:\n\u001b[0;32m      8\u001b[0m         visited\u001b[38;5;241m.\u001b[39mappend(n)\n\u001b[1;32m----> 9\u001b[0m         stack \u001b[38;5;241m+\u001b[39m\u001b[38;5;241m=\u001b[39m \u001b[43mgraph\u001b[49m\u001b[43m[\u001b[49m\u001b[43mn\u001b[49m\u001b[43m]\u001b[49m\u001b[43m \u001b[49m\u001b[38;5;241;43m-\u001b[39;49m\u001b[43m \u001b[49m\u001b[38;5;28;43mset\u001b[39;49m\u001b[43m(\u001b[49m\u001b[43mvisited\u001b[49m\u001b[43m)\u001b[49m\n\u001b[0;32m     10\u001b[0m \u001b[38;5;28;01mreturn\u001b[39;00m visited\n",
      "\u001b[1;31mTypeError\u001b[0m: unsupported operand type(s) for -: 'list' and 'set'"
     ]
    }
   ],
   "source": [
    "graph = {\n",
    "    1: [2, 3],\n",
    "    2: [4, 5],\n",
    "    3: [6],\n",
    "    4: [],\n",
    "    5: [7],\n",
    "    6: [],\n",
    "    7: []\n",
    "}\n",
    "\n",
    "print(DFS(graph, 1))"
   ]
  },
  {
   "cell_type": "markdown",
   "metadata": {},
   "source": [
    "리스트와 set() 간에 - 연산이 지원되지 않는다. 위의 함수에서 stack += graph[n] - set(visted) 에서\n",
    "\n",
    "graph 도 set()을 씌워주면 된다."
   ]
  },
  {
   "cell_type": "code",
   "execution_count": 11,
   "metadata": {},
   "outputs": [],
   "source": [
    "def DFS(graph, root):\n",
    "    visited = []\n",
    "    stack = [root]\n",
    "\n",
    "    while stack:\n",
    "        n = stack.pop()\n",
    "        if n not in visited:\n",
    "            visited.append(n)\n",
    "            stack += set(graph[n]) - set(visited)\n",
    "    return visited\n"
   ]
  },
  {
   "cell_type": "code",
   "execution_count": 12,
   "metadata": {},
   "outputs": [
    {
     "name": "stdout",
     "output_type": "stream",
     "text": [
      "[1, 3, 6, 2, 5, 7, 4]\n"
     ]
    }
   ],
   "source": [
    "graph = {\n",
    "    1: [2, 3],\n",
    "    2: [4, 5],\n",
    "    3: [6],\n",
    "    4: [],\n",
    "    5: [7],\n",
    "    6: [],\n",
    "    7: []\n",
    "}\n",
    "\n",
    "print(DFS(graph, 1))\n"
   ]
  },
  {
   "cell_type": "markdown",
   "metadata": {},
   "source": [
    "DFS 대로 잘 보인다.\n",
    "\n",
    "앞장에서 그래프를 시각화 하는 코드를 이용해서 시각화 해보면 이렇다."
   ]
  },
  {
   "cell_type": "code",
   "execution_count": 28,
   "metadata": {},
   "outputs": [
    {
     "data": {
      "image/png": "[encoded data removed]",
      "text/plain": [
       "<Figure size 640x480 with 1 Axes>"
      ]
     },
     "metadata": {},
     "output_type": "display_data"
    }
   ],
   "source": [
    "import networkx as nx\n",
    "import matplotlib.pyplot as plt\n",
    "\n",
    "graph = {\n",
    "    1: [2, 3],\n",
    "    2: [4, 5],\n",
    "    3: [6],\n",
    "    4: [],\n",
    "    5: [7],\n",
    "    6: [],\n",
    "    7: []\n",
    "}\n",
    "\n",
    "G = nx.DiGraph()\n",
    "\n",
    "for node, edges in graph.items():\n",
    "    for edge in edges:\n",
    "        G.add_edge(node, edge)\n",
    "\n",
    "nx.draw(G, with_labels=True)\n",
    "plt.show()\n"
   ]
  },
  {
   "cell_type": "markdown",
   "metadata": {},
   "source": [
    "1 - 2,3 이 있는데 \n",
    "\n",
    "위의 함수는 시작 노드에서 가장 멀리 있는 노드부터 방문하게 된다. (1-3-6)\n",
    "\n",
    "그런 순서대로 1-2-5-7, 1-2-4 를 방문하게 된다.\n",
    "\n",
    " \n",
    "\n",
    "지금 위의 함수에는 살짝 오류가있는데,\n",
    "\n",
    "원래라면 1-2,3 에서 작은 노드 순서대로 방문해야 하는데, pop()을 사용해서 {2,3}에서 제일 뒤의 3부터 방문하게 되었다.\n",
    "\n",
    "( pop()을 사용한 이유는 시간 복잡도가 O(1) 이기 때문이다. pop(0)을 사용하게되면 가장 앞의 원소를 제거하고 반환하지만 리스트의 모든 원소를 한칸씩 이동시켜야하므로 시간 복잡도가 O(n) 이 된다.)"
   ]
  },
  {
   "cell_type": "markdown",
   "metadata": {},
   "source": [
    "pop(0)을 사용해 제대로 DFS를 만든다면,"
   ]
  },
  {
   "cell_type": "code",
   "execution_count": 32,
   "metadata": {},
   "outputs": [],
   "source": [
    "def dfs2(graph: dict, start: int):\n",
    "    # 각 노드의 방문 여부를 저장하는 딕셔너리를 초기화합니다.\n",
    "    # 초기에는 모든 노드를 방문하지 않았으므로 모든 노드의 값은 False입니다.\n",
    "    visited = {node: False for node in graph.keys()}\n",
    "\n",
    "    # 재귀적으로 DFS를 수행하는 함수를 정의합니다.\n",
    "    def search(current: int):\n",
    "        # 현재 노드를 방문했다고 표시합니다.\n",
    "        visited[current] = True\n",
    "\n",
    "        # 현재 노드의 모든 인접 노드를 확인합니다.\n",
    "        for next_node in graph[current]:\n",
    "            # 인접 노드를 아직 방문하지 않았다면, 그 노드를 방문합니다.\n",
    "            if not visited[next_node]:\n",
    "                search(next_node)\n",
    "\n",
    "    # 시작 노드부터 DFS를 시작합니다.\n",
    "    search(start)\n"
   ]
  },
  {
   "cell_type": "markdown",
   "metadata": {},
   "source": [
    "제대로 1-2,3 에서 2 노드부터 탐색을 하게 되었다."
   ]
  },
  {
   "cell_type": "markdown",
   "metadata": {},
   "source": [
    "#### 3.5.2.2 DFS - 재귀호출로 구현하기\n",
    "\n",
    " "
   ]
  },
  {
   "cell_type": "code",
   "execution_count": 41,
   "metadata": {},
   "outputs": [],
   "source": [
    "def dfs_recursion(graph: dict, start: int):\n",
    "    visited = {node: False for node in graph.keys()}\n",
    "    result = []  # 방문한 노드를 저장할 리스트\n",
    "\n",
    "    def search(current: int):\n",
    "        visited[current] = True\n",
    "        result.append(current)  # 방문한 노드를 result에 추가\n",
    "\n",
    "        for next_node in graph[current]:\n",
    "            if not visited[next_node]:\n",
    "                search(next_node)\n",
    "\n",
    "    search(start)\n",
    "    return result  # 방문한 노드의 순서를 반환"
   ]
  },
  {
   "cell_type": "markdown",
   "metadata": {},
   "source": [
    "search 함수 내에서 search(next_node)로 재귀 호출로써 구현한다.\n",
    "\n",
    "현재 노드의 인접 노드들 중 아직 방문하지 않은 노드가 있다면, 그 노드를 다시 search 함수의 인자로 넣어서 함수를 호출한다."
   ]
  },
  {
   "cell_type": "code",
   "execution_count": 42,
   "metadata": {},
   "outputs": [
    {
     "name": "stdout",
     "output_type": "stream",
     "text": [
      "[1, 2, 4, 5, 7, 3, 6]\n"
     ]
    }
   ],
   "source": [
    "graph = {\n",
    "    1: [2, 3],\n",
    "    2: [4, 5],\n",
    "    3: [6],\n",
    "    4: [],\n",
    "    5: [7],\n",
    "    6: [],\n",
    "    7: []\n",
    "}\n",
    "\n",
    "print(dfs_recursion(graph, 1))\n"
   ]
  },
  {
   "cell_type": "markdown",
   "metadata": {},
   "source": [
    "## BFS 와 DFS\n",
    " \n",
    "\n",
    "백트래킹(Backtracking).\n",
    "\n",
    "모든 경우의 수를 전부 고려하는 알고리즘 에 적합한 방식들이다.\n",
    "\n",
    "경우에 따라 다르지만, 일반적으로 경우의 수에서는 DFS가 유리하다. \n",
    "\n",
    " \n",
    "\n",
    "1. 모든 가능성 탐색 \n",
    "\n",
    "- DFS 는 한방향으로 끝까지 탐색한 후 다른 방향으로 탐색을 진행하기에 백트래킹 문제인 모든 가능성을 탐색하는데 유리핟.\n",
    "\n",
    " \n",
    "\n",
    "2. 메모리 효율성\n",
    "\n",
    "- BFS는 큐를 사용해 모든 노드를 저장한다.\n",
    "\n",
    "  반면 DFS는 스택을 사용해 현재 경로상의 노드만을 저장하므로 메모리 사용량이 적다.\n",
    "\n",
    " \n",
    "\n",
    "3. 해답 도달 시 빠른 종료\n",
    "\n",
    "- DFS는 해답에 도달하면 즉시 탐색을 종료할 수 있다.\n",
    "\n",
    "  반면 BFS는 모든 노드를 방문해야 하므로 종료 시점이 늦어질 수 있다.\n",
    "\n",
    " \n",
    "\n",
    " \n",
    "\n",
    "DFS 사용시 주의해야 할 점은 아주 치명적인 오류를 발생시키므로 앞에서도 다뤘었다.\n",
    "\n",
    "다시 정리해보자면,\n",
    "\n",
    " \n",
    "\n",
    "1. 무한 루프\n",
    "\n",
    "- DFS는 재귀 호출을 사용하므로, 잘못 구현시 무한 루프에 빠질 수 있다.\n",
    "\n",
    " 따라서 방문한 노드를 체크해야 하며, 재귀 호출의 종료 조건을 명확히 설정해야 한다.\n",
    "\n",
    " \n",
    "\n",
    "2. 스택 오버플로우\n",
    "\n",
    "- 재귀 호출의 깊이가 너무 깊어지면 스택 오버플로우가 발생하기 쉽다.\n",
    "\n",
    "이를 방지하기위해 반복문을 사용한 DFS 구현을 고려할 수 도 있다.\n",
    "\n",
    " "
   ]
  }
 ],
 "metadata": {
  "kernelspec": {
   "display_name": "Python 3",
   "language": "python",
   "name": "python3"
  },
  "language_info": {
   "codemirror_mode": {
    "name": "ipython",
    "version": 3
   },
   "file_extension": ".py",
   "mimetype": "text/x-python",
   "name": "python",
   "nbconvert_exporter": "python",
   "pygments_lexer": "ipython3",
   "version": "3.10.11"
  }
 },
 "nbformat": 4,
 "nbformat_minor": 2
}
