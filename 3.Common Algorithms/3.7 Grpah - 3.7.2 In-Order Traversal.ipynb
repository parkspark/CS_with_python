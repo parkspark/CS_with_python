{
 "cells": [
  {
   "cell_type": "markdown",
   "metadata": {},
   "source": [
    "# CS - 3. Common Algorithms - 3.7 Tree - 3.7.2 In-Order Traversal\n",
    "\n",
    "# In-Order Traversal\n",
    "💡In-order traversal is a tree traversal algorithm that visits the left subtree, the root, and then the right subtree. This is the most common way to traverse a binary search tree. It is also used to create a sorted list of nodes in a binary search tree.\n",
    "\n",
    "중위 순회(Inorder Traversal)은 왼쪽 하위 트리, 루트, 오른쪽 하위 트리를 차례로 방문하는 트리 탐색 알고리즘입니다. 이진 검색 트리를 탐색하는 가장 일반적인 방법입니다. 또한 이진 검색 트리에서 정렬된 노드 목록을 만드는 데도 사용됩니다.\n",
    "\n",
    " \n",
    "\n",
    " \n",
    "\n",
    "In-Order Traversal은 이진 트리를 순회하는 방법 중 하나로, 가장 보편적으로 사용되는 방법 중 하나입니다. 이 방법은 노드를 '왼쪽 자식 - 부모 - 오른쪽 자식' 순서로 방문하는 방식을 의미합니다. 이 방식을 사용하면 이진 탐색 트리의 경우 오름차순으로 노드를 출력할 수 있습니다.\n",
    "\n",
    " \n",
    "\n",
    " \n",
    "\n"
   ]
  },
  {
   "cell_type": "markdown",
   "metadata": {},
   "source": [
    "# In Python"
   ]
  },
  {
   "cell_type": "code",
   "execution_count": 1,
   "metadata": {},
   "outputs": [],
   "source": [
    "class Node:\n",
    "    def __init__(self, data, left=None, right=None):\n",
    "        self.data = data\n",
    "        self.left = left\n",
    "        self.right = right\n",
    "\n",
    "def in_order_traversal(node):\n",
    "    if node is not None:\n",
    "        in_order_traversal(node.left)\n",
    "        print(node.data, end=' ')\n",
    "        in_order_traversal(node.right)\n"
   ]
  },
  {
   "cell_type": "code",
   "execution_count": 2,
   "metadata": {},
   "outputs": [
    {
     "name": "stdout",
     "output_type": "stream",
     "text": [
      "4 2 5 1 6 3 7 "
     ]
    }
   ],
   "source": [
    "root = Node(1)\n",
    "root.left = Node(2)\n",
    "root.right = Node(3)\n",
    "root.left.left = Node(4)\n",
    "root.left.right = Node(5)\n",
    "root.right.left = Node(6)\n",
    "root.right.right = Node(7)\n",
    "\n",
    "in_order_traversal(root)"
   ]
  },
  {
   "cell_type": "code",
   "execution_count": 6,
   "metadata": {},
   "outputs": [
    {
     "data": {
      "image/png": "[encoded data removed]",
      "text/plain": [
       "<Figure size 640x480 with 1 Axes>"
      ]
     },
     "metadata": {},
     "output_type": "display_data"
    }
   ],
   "source": [
    "import networkx as nx\n",
    "import matplotlib.pyplot as plt\n",
    "\n",
    "# 이진 트리 노드\n",
    "class Node:\n",
    "    def __init__(self, data, left=None, right=None):\n",
    "        self.data = data\n",
    "        self.left = left\n",
    "        self.right = right\n",
    "\n",
    "# 이진 트리 생성\n",
    "root = Node(1)\n",
    "root.left = Node(2)\n",
    "root.right = Node(3)\n",
    "root.left.left = Node(4)\n",
    "root.left.right = Node(5)\n",
    "root.right.left = Node(6)\n",
    "root.right.right = Node(7)\n",
    "\n",
    "# NetworkX 그래프 생성\n",
    "G = nx.DiGraph()\n",
    "\n",
    "# 노드와 간선 추가 함수\n",
    "def add_edges(node):\n",
    "    if node is not None:\n",
    "        if node.left is not None:\n",
    "            G.add_edge(node.data, node.left.data)\n",
    "            add_edges(node.left)\n",
    "        if node.right is not None:\n",
    "            G.add_edge(node.data, node.right.data)\n",
    "            add_edges(node.right)\n",
    "\n",
    "# 노드와 간선 추가\n",
    "add_edges(root)\n",
    "\n",
    "# 그래프 시각화\n",
    "nx.draw(G, with_labels=True, arrows=False)\n",
    "plt.show()\n"
   ]
  },
  {
   "cell_type": "markdown",
   "metadata": {},
   "source": [
    "함수의 동작 과정은 다음과 같습니다:\n",
    "\n",
    "1. 루트 노드(1)에서 시작합니다.\n",
    "2. 루트 노드의 왼쪽 자식노드(2)로 이동합니다.\n",
    "3. 이동한 노드(2)가 왼쪽 자식노드(4)를 가지고 있으므로, 다시 왼쪽 자식노드(4)로 이동합니다.\n",
    "4. 이동한 노드(4)는 더 이상 왼쪽 자식노드가 없으므로, 이 노드를 방문(출력)합니다.\n",
    "5. 노드(4)는 오른쪽 자식노드도 없으므로, 이 노드의 부모 노드(2)로 돌아가서 이 노드를 방문(출력)합니다.\n",
    "6. 이제 노드(2)의 오른쪽 자식노드(5)를 방문(출력)합니다.\n",
    "7. 노드(2)의 모든 자식노드를 방문했으므로, 노드(2)의 부모 노드(1)로 돌아가서 이 노드를 방문(출력)합니다.\n",
    "8. 마지막으로 노드(1)의 오른쪽 자식노드(3)를 방문(출력)합니다.\n",
    "\n",
    " \n",
    "\n",
    " \n"
   ]
  },
  {
   "cell_type": "markdown",
   "metadata": {},
   "source": [
    "\n",
    "---(나중수정)\n",
    "\n",
    "이거 이러면 재귀적으로 1에서 타고타고 들어가서 제일 아래의 자식노드에서 시작하는데\n",
    "\n",
    "이러면 연산을 처음 1부터 pre-order 보다 과정이 더 있는것 아닌가??\n",
    "\n",
    "왜 쓰는거지?"
   ]
  }
 ],
 "metadata": {
  "kernelspec": {
   "display_name": "Python 3",
   "language": "python",
   "name": "python3"
  },
  "language_info": {
   "codemirror_mode": {
    "name": "ipython",
    "version": 3
   },
   "file_extension": ".py",
   "mimetype": "text/x-python",
   "name": "python",
   "nbconvert_exporter": "python",
   "pygments_lexer": "ipython3",
   "version": "3.7.9"
  }
 },
 "nbformat": 4,
 "nbformat_minor": 2
}
