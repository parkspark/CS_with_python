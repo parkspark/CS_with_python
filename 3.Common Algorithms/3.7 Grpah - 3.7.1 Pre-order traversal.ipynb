{
 "cells": [
  {
   "cell_type": "markdown",
   "metadata": {},
   "source": [
    "# CS - 3. Common Algorithms - 3.7 Tree - 3.7.1 Pre-Order Traversal\n",
    "\n",
    "### Tree Algorithms\n",
    "💡A tree is non-linear and a hierarchical data structure consisting of a collection of nodes such that each node of the tree stores a value and a list of references to other nodes (the “children”).\n",
    "\n",
    "트리는 비선형적이며 노드 모음으로 구성된 계층적 데이터 구조로, 트리의 각 노드가 값과 다른 노드에 대한 참조 목록(\"자식\")을 저장합니다.\n",
    "\n",
    " \n",
    "\n",
    "### Pre-Order Traversal\n",
    "💡Pre-order traversal is a tree traversal algorithm that visits the root node first, then recursively traverses the left subtree, followed by the right subtree.\n",
    "\n",
    "사전 순회 탐색(전위 순회)은 루트 노드를 먼저 방문한 다음 왼쪽 하위 트리를 재귀적으로 탐색한 다음 오른쪽 하위 트리를 탐색하는 트리 탐색 알고리즘입니다."
   ]
  },
  {
   "cell_type": "markdown",
   "metadata": {},
   "source": [
    "\n",
    "자료구조에서 Tree 를 다뤄봤습니다. \n",
    "\n",
    "https://parkpakrsu.tistory.com/336\n",
    "\n",
    "이제 트리에 관련된 알고리즘을 알아보겠습니다."
   ]
  },
  {
   "cell_type": "markdown",
   "metadata": {},
   "source": [
    "### Pre-Order Traversal 이란?\n",
    "\n",
    " \n",
    "\n",
    "먼저 트리를 전위 순회 하는 알고리즘입니다. 前位巡廻 전위, Pre-order, 앞자리 부터 순회한다는 뜻입니다.\n",
    "\n",
    "트리나 그래프를 순회하는 방법 중 하나로, 루트 노드를 가장 먼저 방문한 후, 왼쪽 서브트리, 그리고 오른쪽 서브트리 순으로 방문하는 방법을 말합니다. 이 방법은 트리의 모든 노드를 효과적으로 방문할 수 있어, 트리의 구조를 복사하거나 트리를 문자열로 변환하는 등의 작업을 수행할 때 주로 사용됩니다.\n"
   ]
  },
  {
   "cell_type": "code",
   "execution_count": 1,
   "metadata": {},
   "outputs": [],
   "source": [
    "class Node:\n",
    "    def __init__(self, value):\n",
    "        self.value = value\n",
    "        self.left = None\n",
    "        self.right = None\n",
    "\n",
    "def pre_order_traversal(node):\n",
    "    if node is not None:\n",
    "        print(node.value, end=\" \")\n",
    "        pre_order_traversal(node.left)\n",
    "        pre_order_traversal(node.right)\n"
   ]
  },
  {
   "cell_type": "code",
   "execution_count": 14,
   "metadata": {},
   "outputs": [
    {
     "name": "stdout",
     "output_type": "stream",
     "text": [
      "1 2 4 5 3 6 7 "
     ]
    }
   ],
   "source": [
    "root = Node(1)\n",
    "root.left = Node(2)\n",
    "root.right = Node(3)\n",
    "root.left.left = Node(4)\n",
    "root.left.right = Node(5)\n",
    "root.right.left = Node(6)\n",
    "root.right.right = Node(7)\n",
    "\n",
    "pre_order_traversal(root)\n"
   ]
  },
  {
   "cell_type": "code",
   "execution_count": 35,
   "metadata": {},
   "outputs": [
    {
     "data": {
      "image/png": "[encoded data removed]",
      "text/plain": [
       "<Figure size 640x480 with 1 Axes>"
      ]
     },
     "metadata": {},
     "output_type": "display_data"
    }
   ],
   "source": [
    "import networkx as nx\n",
    "import matplotlib.pyplot as plt\n",
    "\n",
    "def draw_graph(node, parent=None, graph=None):\n",
    "    if graph is None:\n",
    "        graph = nx.DiGraph()\n",
    "    graph.add_node(node.value)\n",
    "    if parent is not None:\n",
    "        graph.add_edge(parent.value, node.value)\n",
    "    if node.left is not None:\n",
    "        draw_graph(node.left, node, graph)\n",
    "    if node.right is not None:\n",
    "        draw_graph(node.right, node, graph)\n",
    "    return graph\n",
    "\n",
    "def draw_tree(node):\n",
    "    graph = draw_graph(node)\n",
    "    nx.draw(graph, with_labels=True, node_color='orange', node_size=500, font_weight='bold')\n",
    "    plt.show()\n",
    "\n",
    "# 트리 생성\n",
    "root = Node(1)\n",
    "root.left = Node(2)\n",
    "root.right = Node(3)\n",
    "root.left.left = Node(4)\n",
    "root.left.right = Node(5)\n",
    "root.right.left = Node(6)\n",
    "root.right.right = Node(7)\n",
    "\n",
    "# 트리 시각화\n",
    "draw_tree(root)\n"
   ]
  },
  {
   "cell_type": "markdown",
   "metadata": {},
   "source": [
    "위의 그래프를 전위 순회 하면 이렇습니다.\n",
    "\n",
    "1-2,3 에서 낮은 2번노드로 진입 (1-2),\n",
    "\n",
    "2-4,5 에서 낮은노드 순서대로 2-4, 그다음 2-5, 더 내려갈 노드가 없으므로 되돌아갑니다.\n",
    "\n",
    "1-3 진입 후 3-6,7 도 위와 마찬가지대로 탐색.\n",
    "\n",
    "따라서 1,2,4,5,3,6,7 순서대로 탐색하게 됩니다."
   ]
  },
  {
   "cell_type": "markdown",
   "metadata": {},
   "source": [
    "### 참고\n",
    "\n",
    "정보통신기술용어해설\n",
    "\n",
    "http://www.ktword.co.kr/test/view/view.php?no=5560"
   ]
  }
 ],
 "metadata": {
  "kernelspec": {
   "display_name": "Python 3",
   "language": "python",
   "name": "python3"
  },
  "language_info": {
   "codemirror_mode": {
    "name": "ipython",
    "version": 3
   },
   "file_extension": ".py",
   "mimetype": "text/x-python",
   "name": "python",
   "nbconvert_exporter": "python",
   "pygments_lexer": "ipython3",
   "version": "3.7.9"
  }
 },
 "nbformat": 4,
 "nbformat_minor": 2
}
