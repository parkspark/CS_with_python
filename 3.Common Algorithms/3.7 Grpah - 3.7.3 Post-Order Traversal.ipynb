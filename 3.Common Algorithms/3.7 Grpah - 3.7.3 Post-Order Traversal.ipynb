{
 "cells": [
  {
   "cell_type": "markdown",
   "metadata": {},
   "source": [
    "# CS - 3. Common Algorithms - 3.7 Tree - 3.7.3 Post-Order Traversal\n",
    "\n",
    "# Post-Order Traversal\n",
    "💡Post-order traversal is a type of tree traversal that visits the left subtree, then the right subtree, and finally the root node. This is the opposite of pre-order traversal, which visits the root node first, then the left subtree, and finally the right subtree.\n",
    "\n",
    "후위 순은 트리의 일종으로 왼쪽 부분 트리, 오른쪽 부분 트리, 그리고 마지막으로 루트 노드를 방문합니다. 이것은 루트 노드를 먼저 방문하고 왼쪽 부분 트리, 그리고 마지막으로 오른쪽 부분 트리를 방문하는 전위 순회와 반대입니다.\n",
    "\n",
    " \n",
    "\n",
    "이진 트리에서의 순회 방법 중 하나인 Post-Order Traversal은 이름 그대로 '후위 순회'를 의미합니다. 이 방법은 노드를 다음과 같은 순서로 방문합니다\n",
    "왼쪽 하위 트리 -> 오른쪽 하위 트리 -> 루트 노드. 이 순서대로 방문하게 되면, 노드의 값들이 '후위' 순서로 나타나게 됩니다."
   ]
  },
  {
   "cell_type": "markdown",
   "metadata": {},
   "source": [
    "## In Python\n",
    " \n",
    "\n",
    "Post-Order Traversal을 구현해보겠습니다."
   ]
  },
  {
   "cell_type": "code",
   "execution_count": 5,
   "metadata": {},
   "outputs": [],
   "source": [
    "class Node:\n",
    "    def __init__(self, key):\n",
    "        self.left = None\n",
    "        self.right = None\n",
    "        self.val = key\n",
    "\n",
    "def post_order_traversal(root):\n",
    "    if root:\n",
    "        post_order_traversal(root.left)\n",
    "        post_order_traversal(root.right)\n",
    "        print(root.val, end=' ')\n"
   ]
  },
  {
   "cell_type": "code",
   "execution_count": 6,
   "metadata": {},
   "outputs": [
    {
     "name": "stdout",
     "output_type": "stream",
     "text": [
      "4 5 2 6 7 3 1 "
     ]
    }
   ],
   "source": [
    "root = Node(1)\n",
    "root.left = Node(2)\n",
    "root.right = Node(3)\n",
    "root.left.left = Node(4)\n",
    "root.left.right = Node(5)\n",
    "root.right.left = Node(6)\n",
    "root.right.right = Node(7)\n",
    "\n",
    "post_order_traversal(root)"
   ]
  },
  {
   "cell_type": "code",
   "execution_count": 8,
   "metadata": {},
   "outputs": [
    {
     "data": {
      "image/png": "[encoded data removed]",
      "text/plain": [
       "<Figure size 640x480 with 1 Axes>"
      ]
     },
     "metadata": {},
     "output_type": "display_data"
    }
   ],
   "source": [
    "import networkx as nx\n",
    "import matplotlib.pyplot as plt\n",
    "\n",
    "# 이진 트리 노드\n",
    "class Node:\n",
    "    def __init__(self, data, left=None, right=None):\n",
    "        self.data = data\n",
    "        self.left = left\n",
    "        self.right = right\n",
    "\n",
    "# 이진 트리 생성\n",
    "root = Node(1)\n",
    "root.left = Node(2)\n",
    "root.right = Node(3)\n",
    "root.left.left = Node(4)\n",
    "root.left.right = Node(5)\n",
    "root.right.left = Node(6)\n",
    "root.right.right = Node(7)\n",
    "\n",
    "# NetworkX 그래프 생성\n",
    "G = nx.DiGraph()\n",
    "\n",
    "# 노드와 간선 추가 함수\n",
    "def add_edges(node):\n",
    "    if node is not None:\n",
    "        if node.left is not None:\n",
    "            G.add_edge(node.data, node.left.data)\n",
    "            add_edges(node.left)\n",
    "        if node.right is not None:\n",
    "            G.add_edge(node.data, node.right.data)\n",
    "            add_edges(node.right)\n",
    "\n",
    "# 노드와 간선 추가\n",
    "add_edges(root)\n",
    "\n",
    "# 그래프 시각화\n",
    "nx.draw(G, with_labels=True, arrows=False)\n",
    "plt.show()\n"
   ]
  },
  {
   "cell_type": "markdown",
   "metadata": {},
   "source": [
    "1. 처음에는 루트 노드인 1에서 시작합니다. 하지만 Post-Order Traversal은 루트 노드를 가장 마지막에 방문하므로, 먼저 왼쪽 하위 트리인 2를 방문합니다.\n",
    "2. 노드 2에서 또 다시 Post-Order Traversal을 수행하게 됩니다. 왼쪽 하위 트리인 4를 먼저 방문하고, 이 노드는 더 이상 하위 노드가 없으므로 바로 출력합니다. (4)\n",
    "3. 그 다음 오른쪽 하위 트리인 5를 방문하고, 이 노드 역시 하위 노드가 없으므로 바로 출력합니다. (4, 5)\n",
    "4. 이제 노드 2의 왼쪽 하위 트리와 오른쪽 하위 트리를 모두 방문했으므로, 노드 2를 출력합니다. (4,5,2)\n",
    "5. 이제 루트 노드 1의 왼쪽 하위 트리를 모두 방문했으므로, 오른쪽 하위 트리인 3을 방문합니다. (4,5,2)\n",
    "6. 노드 3에서 또 다시 Post-Order Traversal을 수행하게 됩니다. 왼쪽 하위 트리인 6을 먼저 방문하고, 이 노드는 더 이상 하위 노드가 없으므로 바로 출력합니다. (4,5,2,6)\n",
    "7. 그 다음 오른쪽 하위 트리인 7을 방문하고, 이 노드 역시 하위 노드가 없으므로 바로 출력합니다. (4,5,2,6,7)\n",
    "8. 이제 노드 3의 왼쪽 하위 트리와 오른쪽 하위 트리를 모두 방문했으므로, 노드 3을 출력합니다. (4,5,2,6,7,3)\n",
    "9. 마지막으로, 루트 노드 1의 왼쪽 하위 트리와 오른쪽 하위 트리를 모두 방문했으므로, 루트 노드 1을 출력합니다.\n",
    "\n",
    "(4,5,2,6,7,3,1)\n",
    "\n",
    " "
   ]
  }
 ],
 "metadata": {
  "kernelspec": {
   "display_name": "Python 3",
   "language": "python",
   "name": "python3"
  },
  "language_info": {
   "codemirror_mode": {
    "name": "ipython",
    "version": 3
   },
   "file_extension": ".py",
   "mimetype": "text/x-python",
   "name": "python",
   "nbconvert_exporter": "python",
   "pygments_lexer": "ipython3",
   "version": "3.7.9"
  }
 },
 "nbformat": 4,
 "nbformat_minor": 2
}
