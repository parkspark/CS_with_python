{
 "cells": [
  {
   "cell_type": "markdown",
   "metadata": {},
   "source": [
    "# CS - 3. Common Algorithms - 3.1. Sorting - 3.1.2 Selection Sort\n",
    "\n",
    " \n",
    "\n",
    "💡 Selection sort is a sorting algorithm that selects the smallest unsorted item in the list and swaps it with index 0, then finds the next smallest and places it into index 1 and so on.\n",
    "\n",
    "선택 정렬은 목록에서 정렬되지 않은 가장 작은 항목을 선택하여 인덱스 0으로 바꾼 다음 다음으로 작은 항목을 찾아서 인덱스 1에 배치하는 정렬 알고리즘입니다.\n",
    "\n",
    " \n"
   ]
  },
  {
   "cell_type": "markdown",
   "metadata": {},
   "source": [
    "\n",
    "선택 정렬(Selection Sort)은 이름에서 알 수 있듯이, 가장 적은 값을 선택하여 앞으로 옮기는 방식으로 정렬하는 알고리즘입니다.\n",
    "\n",
    "선택 정렬의 동작 과정은 이런 순입니다.\n",
    "\n",
    "1. 주어진 리스트 중에서 최소값을 찾습니다.\n",
    "\n",
    "2. 그 값을 리스트의 맨 앞에 위치한 값과 교체합니다.\n",
    "\n",
    "3. 맨 처음 위치를 제외한 나머지 리스트를 대상으로 위의 과정을 반복합니다.\n",
    "\n",
    "4. 이 과정이 끝나면 리스트는 정렬된 상태가 됩니다."
   ]
  },
  {
   "cell_type": "markdown",
   "metadata": {},
   "source": [
    "###  In Python"
   ]
  },
  {
   "cell_type": "code",
   "execution_count": 3,
   "metadata": {},
   "outputs": [],
   "source": [
    "\n",
    "def selection_sort(arr):\n",
    "    for i in range(len(arr)):\n",
    "        min_idx = i\n",
    "        for j in range(i+1, len(arr)):\n",
    "            if arr[j] < arr[min_idx]:\n",
    "                min_idx = j\n",
    "        arr[i], arr[min_idx] = arr[min_idx], arr[i]\n",
    "        print(arr)    \n",
    "    return arr"
   ]
  },
  {
   "cell_type": "code",
   "execution_count": 4,
   "metadata": {},
   "outputs": [
    {
     "name": "stdout",
     "output_type": "stream",
     "text": [
      "[1, 7, 4, 18, 19, 355, 8, 98]\n",
      "[1, 4, 7, 18, 19, 355, 8, 98]\n",
      "[1, 4, 7, 18, 19, 355, 8, 98]\n",
      "[1, 4, 7, 8, 19, 355, 18, 98]\n",
      "[1, 4, 7, 8, 18, 355, 19, 98]\n",
      "[1, 4, 7, 8, 18, 19, 355, 98]\n",
      "[1, 4, 7, 8, 18, 19, 98, 355]\n",
      "[1, 4, 7, 8, 18, 19, 98, 355]\n"
     ]
    },
    {
     "data": {
      "text/plain": [
       "[1, 4, 7, 8, 18, 19, 98, 355]"
      ]
     },
     "execution_count": 4,
     "metadata": {},
     "output_type": "execute_result"
    }
   ],
   "source": [
    "A_list = [8,7,4,18,19,355,1,98]\n",
    "selection_sort(A_list)"
   ]
  },
  {
   "cell_type": "markdown",
   "metadata": {},
   "source": [
    "선택 정렬의 시간 복잡도는 O(n^2)로, 버블 정렬과 동일하게 데이터의 양이 많지 않은 경우에 효과적입니다.\n",
    "\n",
    "하지만, 마찬가지로 데이터의 양이 많거나 무작위로 배열된 퀵 정렬, 병합 정렬 등이 더 효율적인 정렬 알고리즘을 사용하는것이 좋다!"
   ]
  }
 ],
 "metadata": {
  "kernelspec": {
   "display_name": "Python 3",
   "language": "python",
   "name": "python3"
  },
  "language_info": {
   "codemirror_mode": {
    "name": "ipython",
    "version": 3
   },
   "file_extension": ".py",
   "mimetype": "text/x-python",
   "name": "python",
   "nbconvert_exporter": "python",
   "pygments_lexer": "ipython3",
   "version": "3.10.11"
  }
 },
 "nbformat": 4,
 "nbformat_minor": 2
}
