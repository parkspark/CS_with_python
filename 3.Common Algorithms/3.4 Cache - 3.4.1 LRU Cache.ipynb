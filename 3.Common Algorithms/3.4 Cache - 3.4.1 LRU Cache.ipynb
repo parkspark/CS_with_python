{
 "cells": [
  {
   "cell_type": "code",
   "execution_count": 2,
   "metadata": {},
   "outputs": [
    {
     "name": "stdout",
     "output_type": "stream",
     "text": [
      "x 1\n",
      "y 2\n",
      "z 3\n",
      "asdf 121\n",
      "qwer 99\n",
      "zxcvb -12\n"
     ]
    }
   ],
   "source": [
    "from collections import OrderedDict\n",
    "\n",
    "# 순서가 보장된 딕셔너리 생성\n",
    "d = OrderedDict()\n",
    "d['x'] = 1\n",
    "d['y'] = 2\n",
    "d['z'] = 3\n",
    "d['asdf'] = 121\n",
    "d['qwer'] = 99\n",
    "d['zxcvb'] = -12\n",
    "\n",
    "for key, value in d.items():\n",
    "    print(key, value)"
   ]
  },
  {
   "cell_type": "code",
   "execution_count": null,
   "metadata": {},
   "outputs": [],
   "source": []
  }
 ],
 "metadata": {
  "kernelspec": {
   "display_name": "Python 3",
   "language": "python",
   "name": "python3"
  },
  "language_info": {
   "codemirror_mode": {
    "name": "ipython",
    "version": 3
   },
   "file_extension": ".py",
   "mimetype": "text/x-python",
   "name": "python",
   "nbconvert_exporter": "python",
   "pygments_lexer": "ipython3",
   "version": "3.10.11"
  }
 },
 "nbformat": 4,
 "nbformat_minor": 2
}
