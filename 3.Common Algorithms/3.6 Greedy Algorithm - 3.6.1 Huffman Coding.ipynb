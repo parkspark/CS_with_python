{
 "cells": [
  {
   "cell_type": "markdown",
   "metadata": {},
   "source": [
    "# CS - 3. Common Algorithms - 3.6 Greedy Algorithms - 3.6.1 Huffman Coding \n",
    "\n",
    "Huffman Coding\n",
    "Huffman coding is a lossless data compression algorithm. The idea is to assign variable-length codes to input characters, lengths of the assigned codes are based on the frequencies of corresponding characters. The most frequent character gets the smallest code and the least frequent character gets the largest code.\n",
    "\n",
    "허프만 코딩은 무손실 데이터 압축 알고리즘입니다. 입력 문자에 가변 길이의 코드를 할당하고, 할당된 코드의 길이는 해당 문자의 빈도에 따라 달라집니다. 가장 빈도가 높은 문자는 가장 작은 코드를, 가장 빈도가 낮은 문자는 가장 큰 코드를 할당받습니다.\n",
    "\n",
    " \n",
    "\n",
    "허프만 코딩(Huffman Coding)은 데이터를 효율적으로 압축하는 알고리즘 중 하나입니다.\n",
    "\n",
    "이 방법은 문자 또는 심볼이 얼마나 자주 등장하는지에 따라 다른 길이의 비트를 사용합니다.\n",
    "\n",
    "가장 자주 등장하는 문자는 가장 짧은 비트를, 가장 적게 등장하는 문자는 가장 긴 비트를 사용합니다.\n",
    "\n",
    "이렇게 하면 데이터를 표현하는 데 필요한 전체 비트 수를 최소화 할 수 있습니다."
   ]
  },
  {
   "cell_type": "markdown",
   "metadata": {},
   "source": [
    "## In Python"
   ]
  },
  {
   "cell_type": "code",
   "execution_count": 3,
   "metadata": {},
   "outputs": [],
   "source": [
    "import heapq\n",
    "import collections\n",
    "import sys\n",
    "\n",
    "def huffman_encoding(data):\n",
    "    # 문자의 빈도수를 세어서 사전에 저장합니다.\n",
    "    freq_dict = collections.defaultdict(int)\n",
    "    for char in data:\n",
    "        freq_dict[char] += 1\n",
    "\n",
    "    # 빈도수를 기반으로 최소 힙을 만듭니다. \n",
    "    # 힙의 각 요소는 [문자 빈도수, [문자, 문자의 허프만 코드]] 형태입니다.\n",
    "    heap = [[weight, [char, \"\"]] for char, weight in freq_dict.items()]\n",
    "    heapq.heapify(heap)\n",
    "\n",
    "    # 힙에 요소가 하나만 남을 때까지 아래의 과정을 반복합니다.\n",
    "    while len(heap) > 1:\n",
    "        # 힙에서 가장 빈도수가 적은 두 요소를 꺼냅니다.\n",
    "        lo = heapq.heappop(heap)\n",
    "        hi = heapq.heappop(heap)\n",
    "\n",
    "        # 빈도수가 가장 적은 요소의 허프만 코드 앞에 '0'을 추가합니다.\n",
    "        for pair in lo[1:]:\n",
    "            pair[1] = '0' + pair[1]\n",
    "        # 두 번째로 빈도수가 적은 요소의 허프만 코드 앞에 '1'을 추가합니다.\n",
    "        for pair in hi[1:]:\n",
    "            pair[1] = '1' + pair[1]\n",
    "\n",
    "        # 두 요소를 합친 새 요소를 힙에 추가합니다.\n",
    "        # 이 요소의 빈도수는 두 요소의 빈도수 합이며, 허프만 코드는 두 요소의 허프만 코드를 합친 것입니다.\n",
    "        heapq.heappush(heap, [lo[0] + hi[0]] + lo[1:] + hi[1:])\n",
    "\n",
    "    # 힙에 남은 마지막 요소가 전체 문자의 허프만 트리입니다. \n",
    "    # 이를 허프만 사전으로 변환하여 출력합니다.\n",
    "    huff_dict = sorted(heapq.heappop(heap)[1:], key=lambda p: (len(p[-1]), p))\n",
    "    print(\"Huffman Coding: \")\n",
    "    for char, huff_code in huff_dict:\n",
    "        print(f\"{char} : {huff_code}\")\n"
   ]
  },
  {
   "cell_type": "markdown",
   "metadata": {},
   "source": [
    " \n",
    "\n",
    "위 코드는 사용자로부터 문자열을 입력받아 각 문자의 빈도수를 계산하고,\n",
    "\n",
    "이를 기반으로 허프만 코딩 알고리즘을 적용해 각 문자에 대응하는 허프만 코드를 출력합니다."
   ]
  },
  {
   "cell_type": "code",
   "execution_count": 4,
   "metadata": {},
   "outputs": [
    {
     "name": "stdout",
     "output_type": "stream",
     "text": [
      "Huffman Coding: \n",
      "  : 110\n",
      "o : 101\n",
      "a : 1110\n",
      "c : 0001\n",
      "f : 0011\n",
      "g : 0100\n",
      "h : 0101\n",
      "i : 1111\n",
      "l : 0110\n",
      "m : 0111\n",
      "n : 1000\n",
      "u : 0000\n",
      "d : 00100\n",
      "r : 00101\n",
      "s : 10010\n",
      "t : 10011\n"
     ]
    }
   ],
   "source": [
    "data_input = \"huffman coding is a cool algorithm\"\n",
    "huffman_encoding(data_input)\n"
   ]
  },
  {
   "cell_type": "code",
   "execution_count": 7,
   "metadata": {},
   "outputs": [
    {
     "name": "stdout",
     "output_type": "stream",
     "text": [
      "Huffman Coding: \n",
      "a : 11\n",
      "b : 10\n",
      "c : 00\n",
      "d : 011\n",
      "e : 010\n"
     ]
    }
   ],
   "source": [
    "data_input = \"aaaaabbbbcccdde\"\n",
    "huffman_encoding(data_input)\n"
   ]
  },
  {
   "cell_type": "markdown",
   "metadata": {},
   "source": [
    "이런식으로 문자열에서 각 문자의 빈도수를 카운트하고, 빈도수를 기반으로 허프만 트리를 구성합니다.\n",
    "\n",
    "트리를 통해 각 문자에 대응하는 허프만 코드를 생성하고 출력합니다. 이렇게 생성된 허프만 코드는 그 문자의 빈도수에 반비례하는 길이를 가지므로, 빈도수가 높은 문자는 짧은 코드를, 빈도수가 낮은 문자는 긴 코드를 가지게 됩니다."
   ]
  },
  {
   "cell_type": "markdown",
   "metadata": {},
   "source": [
    "## 활용\n",
    "정의에 따라서 '압축'에 강점을 지니기에 압축과 전송에 있어 큰 효율성을 지닙니다.\n",
    "\n",
    " \n",
    "\n",
    "1. 파일 압축\n",
    "\n",
    "허프만 코딩은 파일 압축에 많이 사용됩니다.\n",
    "\n",
    "ZIP파일 압축은 허프만 코딩을 이용해 데이터를 효율적으로 압축합니다.\n",
    "\n",
    "JPEG 이미지 압축에서도 허프만 코딩이 사용됩니다.\n",
    "\n",
    "이미지 색상 정보를 압축하는 과정에서 허프만 코딩을 사용하여 데이터를 효율적으로 압축합니다.\n",
    "\n",
    " \n",
    "\n",
    "2. 통신\n",
    "\n",
    "허프만 코딩은 데이터를 효율적으로 전송하는 방법에 사용됩니다.\n",
    "\n",
    "데이터 전송에 필요한 비트수를 줄여 최소화하는데 사용됩니다.\n",
    "\n",
    " \n",
    "\n",
    "3. 웹 로딩\n",
    "\n",
    "텍스트 데이터도 허프만 코딩을 통해 압축을 할수 있으며, 웹 페이지 로딩 속도를 높이는데 도움이 됩니다."
   ]
  }
 ],
 "metadata": {
  "kernelspec": {
   "display_name": "Python 3",
   "language": "python",
   "name": "python3"
  },
  "language_info": {
   "codemirror_mode": {
    "name": "ipython",
    "version": 3
   },
   "file_extension": ".py",
   "mimetype": "text/x-python",
   "name": "python",
   "nbconvert_exporter": "python",
   "pygments_lexer": "ipython3",
   "version": "3.10.11"
  }
 },
 "nbformat": 4,
 "nbformat_minor": 2
}
