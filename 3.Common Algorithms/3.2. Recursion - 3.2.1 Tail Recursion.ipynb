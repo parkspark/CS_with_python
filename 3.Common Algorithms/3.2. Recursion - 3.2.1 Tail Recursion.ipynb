{
 "cells": [
  {
   "cell_type": "markdown",
   "metadata": {},
   "source": [
    "# Tail Recursion"
   ]
  },
  {
   "cell_type": "code",
   "execution_count": 10,
   "metadata": {},
   "outputs": [
    {
     "data": {
      "text/plain": [
       "10"
      ]
     },
     "execution_count": 10,
     "metadata": {},
     "output_type": "execute_result"
    }
   ],
   "source": [
    "def sum(n):\n",
    "    if n == 0:\n",
    "        return 0\n",
    "    else:\n",
    "        return n + sum(n - 1)\n",
    "\n",
    "\n",
    "sum(4)"
   ]
  },
  {
   "cell_type": "markdown",
   "metadata": {},
   "source": [
    "sum(4)\n",
    "4 + sum(3)\n",
    "4 + (3 + sum(2))\n",
    "4 + (3 + (2 + sum(1)))\n",
    "4 + (3 + (2 + (1 + sum(0))))\n",
    "4 + (3 + (2 + (1 + 0)))\n",
    "4 + (3 + (2 + 1))\n",
    "4 + (3 + 3)\n",
    "4 + 6\n",
    "10"
   ]
  },
  {
   "cell_type": "code",
   "execution_count": 24,
   "metadata": {},
   "outputs": [
    {
     "data": {
      "text/plain": [
       "10"
      ]
     },
     "execution_count": 24,
     "metadata": {},
     "output_type": "execute_result"
    }
   ],
   "source": [
    "def sum_tail_recursion(n, acc):\n",
    "    return acc if n == 0 else sum_tail_recursion(n - 1, acc + n)\n",
    "\n",
    "sum_tail_recursion(4, 0) # 결과값 10"
   ]
  },
  {
   "cell_type": "code",
   "execution_count": 22,
   "metadata": {},
   "outputs": [
    {
     "name": "stdout",
     "output_type": "stream",
     "text": [
      "10\n",
      "10\n",
      "10\n",
      "10\n",
      "10\n"
     ]
    },
    {
     "data": {
      "text/plain": [
       "10"
      ]
     },
     "execution_count": 22,
     "metadata": {},
     "output_type": "execute_result"
    }
   ],
   "source": [
    "print(sum_tail_recursion(4, 0))\n",
    "print(sum_tail_recursion(3, 4))\n",
    "print(sum_tail_recursion(2, 7))\n",
    "print(sum_tail_recursion(1, 9))\n",
    "print(sum_tail_recursion(0, 10))\n",
    "10"
   ]
  },
  {
   "cell_type": "code",
   "execution_count": null,
   "metadata": {},
   "outputs": [],
   "source": []
  }
 ],
 "metadata": {
  "kernelspec": {
   "display_name": "Python 3",
   "language": "python",
   "name": "python3"
  },
  "language_info": {
   "codemirror_mode": {
    "name": "ipython",
    "version": 3
   },
   "file_extension": ".py",
   "mimetype": "text/x-python",
   "name": "python",
   "nbconvert_exporter": "python",
   "pygments_lexer": "ipython3",
   "version": "3.10.11"
  }
 },
 "nbformat": 4,
 "nbformat_minor": 2
}
