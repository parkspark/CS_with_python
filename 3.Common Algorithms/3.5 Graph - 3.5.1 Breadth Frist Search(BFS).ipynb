{
 "cells": [
  {
   "cell_type": "markdown",
   "metadata": {},
   "source": [
    "# CS - 3. Common Algorithms - 3.5 Graph - 3.5.1 Breadth First Search(BFS)\n",
    "\n",
    "Breadth First Search\n",
    "💡Breadth first search for a graph is a way to traverse the graph. It starts at the root node and explores all of the neighbor nodes at the present depth prior to moving on to the nodes at the next depth level.\n",
    "\n",
    " \n",
    "\n",
    "넓이 우선 탐색은 그래프를 탐색하는 방법입니다. 루트 노드에서 시작하여 다음 심도 수준의 노드로 이동하기 전에 현재 심도에 있는 모든 이웃 노드를 탐색합니다."
   ]
  },
  {
   "cell_type": "markdown",
   "metadata": {},
   "source": [
    "알고리즘 문제하면 대중적으로 잘 알려진 BFS, 넓이 우선 탐색 입니다."
   ]
  },
  {
   "cell_type": "markdown",
   "metadata": {},
   "source": [
    "## In Python"
   ]
  },
  {
   "cell_type": "code",
   "execution_count": 4,
   "metadata": {},
   "outputs": [],
   "source": [
    "def bfs(graph: dict, start: int):\n",
    "    # 방문한 노드를 기록하기 위한 딕셔너리를 초기화합니다.\n",
    "    visited = {node: False for node in graph.keys()}\n",
    "\n",
    "    # 탐색을 시작할 노드를 큐에 넣습니다.\n",
    "    queue = [start]\n",
    "\n",
    "    # 시작 노드를 방문했다고 표시합니다.\n",
    "    visited[start] = True\n",
    "\n",
    "    # 방문 순서를 기록합니다.\n",
    "    order_of_visit = []\n",
    "\n",
    "\n",
    "    # 큐가 비어있지 않을 때까지 반복합니다.\n",
    "    while queue:\n",
    "        # 큐에서 노드를 하나 꺼냅니다. 이 노드를 현재 노드라고 합니다.\n",
    "        current_node = queue.pop(0)\n",
    "        order_of_visit.append(current_node)\n",
    "\n",
    "        # 현재 노드와 연결된 노드들을 확인합니다.\n",
    "        for adjacent_node in graph[current_node]:\n",
    "            # 만약 인접한 노드를 아직 방문하지 않았다면,\n",
    "            if not visited[adjacent_node]:\n",
    "                # 해당 노드를 방문합니다.\n",
    "                queue.append(adjacent_node)\n",
    "                visited[adjacent_node] = True\n",
    "                \n",
    "    return order_of_visit\n"
   ]
  },
  {
   "cell_type": "code",
   "execution_count": 5,
   "metadata": {},
   "outputs": [
    {
     "data": {
      "text/plain": [
       "[1, 2, 3, 4, 5, 6, 7]"
      ]
     },
     "execution_count": 5,
     "metadata": {},
     "output_type": "execute_result"
    }
   ],
   "source": [
    "graph_example = {\n",
    "    1: [2, 3, 4],\n",
    "    2: [5],\n",
    "    3: [5],\n",
    "    4: [],\n",
    "    5: [6, 7],\n",
    "    6: [],\n",
    "    7: [3],\n",
    "}\n",
    "\n",
    "bfs(graph_example, 1)\n"
   ]
  },
  {
   "cell_type": "markdown",
   "metadata": {},
   "source": [
    "위에서 정의한 BFS 함수대로, 시작 노드로부터 가장 가까운 노드부터 탐색하고, 그다음 가까운 노드를 탐색하는 방식으로 진됩니다.\n",
    "\n",
    "1-2,3,4 를 순서대로 방문한 뒤, 2,3,4 노드를 방문하려고하나 이미 방문한 노드기에 그다음 가까운 5번 노드를 방문합니다.\n",
    "\n",
    "5-6,7 로 연결되어 있어 그다음 6,7 노드를 방문합니다.\n",
    "\n",
    " \n",
    "\n",
    "살짝 이렇게 보면 1,2,3,4,5,6,7 그냥 순서대로 방문하는거 아니냐? 라고 생각할 수 도 있습니다."
   ]
  },
  {
   "cell_type": "code",
   "execution_count": 13,
   "metadata": {},
   "outputs": [
    {
     "data": {
      "text/plain": [
       "[1, 2, 3, 4, 6, 5]"
      ]
     },
     "execution_count": 13,
     "metadata": {},
     "output_type": "execute_result"
    }
   ],
   "source": [
    "graph_example2 = {\n",
    "    1: [2, 3],\n",
    "    2: [4],\n",
    "    3: [6],\n",
    "    4: [5],\n",
    "    5: [],\n",
    "    6: [],\n",
    "    7: [],\n",
    "    8: [6, 7]\n",
    "    \n",
    "}\n",
    "\n",
    "bfs(graph_example2, 1)\n"
   ]
  },
  {
   "cell_type": "markdown",
   "metadata": {},
   "source": [
    " \n",
    "\n",
    "이 경우 시작 노드는 1이므로, 1과 직접 연결된 노드인 2, 3을 먼저 방문합니다. \n",
    "\n",
    "그 다음으로는 2와 3에서 갈 수 있는 노드인 4와 6을 방문하게 됩니다. 4에서는 다시 5로 이동할 수 있으므로 5를 방문하게 됩니다.\n",
    "\n",
    " \n",
    "\n",
    "왜 7과 8 노드가 없을까요?"
   ]
  },
  {
   "cell_type": "markdown",
   "metadata": {},
   "source": [
    "그래프의 엣지 특성인 방향성의 존재 때문이기도 합니다.\n",
    "\n",
    "https://parkpakrsu.tistory.com/327"
   ]
  },
  {
   "cell_type": "code",
   "execution_count": 29,
   "metadata": {},
   "outputs": [
    {
     "data": {
      "image/png": "[encoded data removed]",
      "text/plain": [
       "<Figure size 640x480 with 1 Axes>"
      ]
     },
     "metadata": {},
     "output_type": "display_data"
    }
   ],
   "source": [
    "import networkx as nx\n",
    "import matplotlib.pyplot as plt\n",
    "\n",
    "graph_example2 = {\n",
    "    1: [2, 3],\n",
    "    2: [4],\n",
    "    3: [6],\n",
    "    4: [5],\n",
    "    5: [],\n",
    "    6: [],\n",
    "    7: [],\n",
    "    8: [6, 7]\n",
    "}\n",
    "\n",
    "G = nx.DiGraph()\n",
    "\n",
    "for node, edges in graph_example2.items():\n",
    "    for edge in edges:\n",
    "        G.add_edge(node, edge)\n",
    "\n",
    "nx.draw(G, with_labels=True)\n",
    "plt.show()\n"
   ]
  },
  {
   "cell_type": "markdown",
   "metadata": {},
   "source": [
    "선만 본다면 1 - 3 - 6 - 8 이런식으로 갈수 있다고 생각하겠지만, 그래프의 엣지는 방향성이 있습니다.\n",
    "\n",
    "화살표의 방향으로만 노드의 이동을 진행할 수 있기에,  탐색 시작노드인 1에서 8으로 갈 방법이 없는 것입니다."
   ]
  },
  {
   "cell_type": "code",
   "execution_count": 32,
   "metadata": {},
   "outputs": [
    {
     "data": {
      "text/plain": [
       "[8, 6, 7]"
      ]
     },
     "execution_count": 32,
     "metadata": {},
     "output_type": "execute_result"
    }
   ],
   "source": [
    "bfs(graph_example2, 8)"
   ]
  },
  {
   "cell_type": "markdown",
   "metadata": {},
   "source": [
    "같은 그래프의 탐색을 8번에서 부터 시작한다면 8,6,7 순서로 탐색이 끝나게 됩니다."
   ]
  },
  {
   "cell_type": "markdown",
   "metadata": {},
   "source": [
    "## 활용\n",
    " \n",
    "\n",
    "BFS 알고리즘이 활용되는 곳은 다양합니다.\n",
    "\n",
    "1. 두 노드 사이의 최단 경로 혹은 임의의 경로를 찾아야 할 때\n",
    "2. 그래프에 포함된 모든 노드를 방문해야 할 때\n",
    "3. 두 노드가 연결되어 있는지 확인해야 할 때\n",
    "\n",
    " \n",
    "\n",
    "좀더 실제적인 예시를 들어 보겠습니다.\n",
    "\n",
    " \n",
    "\n",
    "1. SNS 친구 추천 시스템\n",
    "\n",
    "- 사용자를 시작 노드로 BFS를 수행, 가장 가까운 노드(즉, 친구)를 먼저 방문하고, 그 다음으로 가까운 노드(친구의 친구)를 방문하는 형식으로 친구 추천을 할 수 있습니다. 링크드인에서 1촌, 2촌, 3촌, 3촌이상 같은 것을 볼 수 있습니다.\n",
    "\n",
    " \n",
    "\n",
    "2. GPS 네비게이션 \n",
    "\n",
    "- BFS 는 GPS 네비게이션 시스템에서 최단 경로를 찾는 데 사용됩니다. 특정 위치에서 목적지 까지 최단 경로를 찾기위해, 시작 위치에서 BFS를 수행하여 가장 가까운 위치부터 방문, 그 다음으로 가까운 위치를 방문 하는 방식으로 최단 경로를 찾을 수 있습니다.\n",
    "\n",
    " \n",
    "\n",
    "3. 네트워크 라우팅\n",
    "\n",
    "- 네트워크에서 패킷을 전송하는 최적의 경로를 찾는 데 BFS가 사용됩니다. 라우터는 BFS를 사용하여 가장 가까운 라우터 부터 방문하고, 그 다음으로 가까운 라우터를 방문하는 방식으로 최적의 경로를 찾습니다."
   ]
  }
 ],
 "metadata": {
  "kernelspec": {
   "display_name": "Python 3",
   "language": "python",
   "name": "python3"
  },
  "language_info": {
   "codemirror_mode": {
    "name": "ipython",
    "version": 3
   },
   "file_extension": ".py",
   "mimetype": "text/x-python",
   "name": "python",
   "nbconvert_exporter": "python",
   "pygments_lexer": "ipython3",
   "version": "3.10.11"
  }
 },
 "nbformat": 4,
 "nbformat_minor": 2
}
