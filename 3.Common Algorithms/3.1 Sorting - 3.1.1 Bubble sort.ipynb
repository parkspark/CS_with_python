{
 "cells": [
  {
   "cell_type": "markdown",
   "metadata": {},
   "source": [
    "# CS - 3. Common Algorithms - 3.1. Sorting - 3.1.1 Bubble sort\n",
    "\n",
    "\n",
    "💡Sorting algorithms are used to sort data in a collection. Sorting is a very common task in computer science, and it is also a very common interview question. There are many different ways to sort data, and different algorithms have different advantages and disadvantages.\n",
    "\n",
    "Learn about the sorting algorithms and know the best case/worst case, average complexity of each. Also, learn about the stability of sorting algorithms.\n",
    "\n",
    "정렬 알고리즘은 컬렉션의 데이터를 정렬하는 데 사용됩니다. 정렬은 컴퓨터 과학에서 매우 흔한 작업이며, 면접 질문에도 자주 등장합니다. 데이터를 정렬하는 방법에는 여러 가지가 있으며, 알고리즘마다 장단점이 다릅니다.\n",
    "정렬 알고리즘에 대해 알아보고 각 알고리즘의 최상의 경우와 최악의 경우, 평균 복잡도를 파악합시다. 또한 정렬 알고리즘의 안정성에 대해서도 알아봅시다."
   ]
  },
  {
   "cell_type": "markdown",
   "metadata": {},
   "source": [
    "# Bubble sort\n",
    "💡 Bubble sort is a simple sorting algorithm that repeatedly steps through the list, compares adjacent elements and swaps them if they are in the wrong order. The pass through the list is repeated until the list is sorted.\n",
    "\n",
    "버블 정렬은 목록을 반복적으로 통과하면서 인접한 요소를 비교하고 순서가 잘못된 경우 교체하는 간단한 정렬 알고리즘입니다. 목록이 정렬될 때까지 목록을 통과하는 과정이 반복됩니다.\n",
    "\n",
    " \n",
    "\n",
    "버블 정렬은 가장 간단한 정렬 알고리즘 중 하나로,\n",
    "\n",
    "인접한 두 원소를 비교해 필요에 따라 위치를 교환하는 방식으로 작동합니다.\n",
    "\n",
    " \n",
    "\n",
    "왜 이름이 버블일까요?\n",
    "\n",
    "큰 값이 마치 '버블'처럼 배열의 끝으로 떠오르는 모습을 보여주는 정렬 방식이기 떄문입니다.\n",
    "\n",
    " \n",
    "\n",
    "버블 정렬의 동작은\n",
    "\n",
    "1. 배열의 처음부터 시작해 인접한 두 원소를 비교\n",
    "\n",
    "2. 만약 앞의 원소가 뒤의 원소보다 크다면, 두 원소의 위치를 변경\n",
    "\n",
    "3. 배열의 끝까지 이 과정을 반복합니다. 이렇게 하면 가장 큰 원소가 배열의 마지막에 위치하게 됩니다.\n",
    "\n",
    "4. 가장 큰 원소가 정렬된 위치에 있으므로, 이제는 마지막 원소를 제외하고 나머지 원소에 대해 동일한 과정을 반복합니다.\n",
    "\n",
    "5. 배열의 모든 원소가 정렬될 떄까지 이 과정을 반복합니다."
   ]
  },
  {
   "cell_type": "code",
   "execution_count": 5,
   "metadata": {},
   "outputs": [],
   "source": [
    "def bubble_sort(arr):\n",
    "    n = len(arr)\n",
    "    for i in range(n):\n",
    "        for j in range(0, n-i-1):\n",
    "            if arr[j] > arr[j+1]:\n",
    "                arr[j], arr[j+1] = arr[j+1], arr[j]\n",
    "                print(arr)\n",
    "    return arr"
   ]
  },
  {
   "cell_type": "code",
   "execution_count": 6,
   "metadata": {},
   "outputs": [
    {
     "name": "stdout",
     "output_type": "stream",
     "text": [
      "[7, 8, 4, 18, 19, 355, 1, 98]\n",
      "[7, 4, 8, 18, 19, 355, 1, 98]\n",
      "[7, 4, 8, 18, 19, 1, 355, 98]\n",
      "[7, 4, 8, 18, 19, 1, 98, 355]\n",
      "[4, 7, 8, 18, 19, 1, 98, 355]\n",
      "[4, 7, 8, 18, 1, 19, 98, 355]\n",
      "[4, 7, 8, 1, 18, 19, 98, 355]\n",
      "[4, 7, 1, 8, 18, 19, 98, 355]\n",
      "[4, 1, 7, 8, 18, 19, 98, 355]\n",
      "[1, 4, 7, 8, 18, 19, 98, 355]\n"
     ]
    },
    {
     "data": {
      "text/plain": [
       "[1, 4, 7, 8, 18, 19, 98, 355]"
      ]
     },
     "execution_count": 6,
     "metadata": {},
     "output_type": "execute_result"
    }
   ],
   "source": [
    "A_list = [8,7,4,18,19,355,1,98]\n",
    "bubble_sort(A_list)"
   ]
  },
  {
   "cell_type": "markdown",
   "metadata": {},
   "source": [
    " \n",
    "\n",
    "시간 복잡도는 O(n^2)입니다.\n",
    "\n",
    " \n",
    "\n",
    "데이터의 양이 많지 않거나, 어느정도 정렬이 된 데이터라면 효과적이지만,\n",
    "\n",
    "양이 많거나 무작위로 배열된 경우에는 퀵 정렬, 병합정렬등이 더 효율적인 정렬 알고리즘 입니다."
   ]
  }
 ],
 "metadata": {
  "kernelspec": {
   "display_name": "Python 3",
   "language": "python",
   "name": "python3"
  },
  "language_info": {
   "codemirror_mode": {
    "name": "ipython",
    "version": 3
   },
   "file_extension": ".py",
   "mimetype": "text/x-python",
   "name": "python",
   "nbconvert_exporter": "python",
   "pygments_lexer": "ipython3",
   "version": "3.10.11"
  }
 },
 "nbformat": 4,
 "nbformat_minor": 2
}
