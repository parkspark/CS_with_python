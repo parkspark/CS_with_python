{
 "cells": [
  {
   "cell_type": "code",
   "execution_count": 1,
   "metadata": {},
   "outputs": [],
   "source": [
    "def rabin_karp(pattern, text, d, q):\n",
    "    n = len(text)  # 텍스트의 길이\n",
    "    m = len(pattern)  # 패턴의 길이\n",
    "    h = pow(d, m-1) % q  # h는 사용되는 문자의 수를 패턴의 길이만큼 제곱한 뒤, q로 나눈 나머지\n",
    "    p = 0  # 패턴의 해시값 초기화\n",
    "    t = 0  # 텍스트의 해시값 초기화\n",
    "    result = []  # 결과값 초기화\n",
    "    for i in range(m):  # 패턴과 텍스트의 초기 해시값 계산\n",
    "        p = (d*p + ord(pattern[i])) % q\n",
    "        t = (d*t + ord(text[i])) % q\n",
    "    for s in range(n-m+1):  # 텍스트를 슬라이딩하면서\n",
    "        if p == t:  # 해시값이 일치하면\n",
    "            match = True\n",
    "            for i in range(m):  # 문자열이 실제로 일치하는지 확인\n",
    "                if pattern[i] != text[s+i]:\n",
    "                    match = False  # 문자가 하나라도 다르면 match를 False로 변경\n",
    "                    break\n",
    "            if match:\n",
    "                result = result + [s]  # 문자열이 일치하면 결과에 추가\n",
    "        if s < n-m:\n",
    "            t = (t - h*ord(text[s])) % q  # 슬라이딩 윈도우의 왼쪽 문자 제거\n",
    "            t = (t*d + ord(text[s+m])) % q  # 슬라이딩 윈도우의 오른쪽 문자 추가\n",
    "            t = (t+q) % q  # 음수가 나오지 않도록 보정\n",
    "    return result  # 결과 반환\n"
   ]
  },
  {
   "cell_type": "code",
   "execution_count": 2,
   "metadata": {},
   "outputs": [
    {
     "name": "stdout",
     "output_type": "stream",
     "text": [
      "[0, 6]\n"
     ]
    }
   ],
   "source": [
    "print(rabin_karp('abc', 'abcdefabcgh', 256, 101))\n"
   ]
  }
 ],
 "metadata": {
  "kernelspec": {
   "display_name": "Python 3",
   "language": "python",
   "name": "python3"
  },
  "language_info": {
   "codemirror_mode": {
    "name": "ipython",
    "version": 3
   },
   "file_extension": ".py",
   "mimetype": "text/x-python",
   "name": "python",
   "nbconvert_exporter": "python",
   "pygments_lexer": "ipython3",
   "version": "3.7.9"
  }
 },
 "nbformat": 4,
 "nbformat_minor": 2
}
