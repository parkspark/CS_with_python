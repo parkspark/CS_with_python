{
 "cells": [
  {
   "cell_type": "markdown",
   "metadata": {},
   "source": [
    "# [threading] ipynb에서 daemon thread 가 적용되지 않는 것에 대해서\n",
    "\n",
    "####  선요약\n",
    " \n",
    "원인 : 단일 셀의 실행이 끝났다고 해서 Python 인터프리터가 종료되는 것은 아니므로 백그라운드 스레드가 계속 실행됩니다.\n",
    "\n",
    "ipynb 말고 py 에서 실행하면 문제 없이 데몬스레드가 종료됨.\n",
    "\n",
    " \n",
    "\n"
   ]
  },
  {
   "cell_type": "markdown",
   "metadata": {},
   "source": [
    "## Treading 모듈"
   ]
  },
  {
   "cell_type": "code",
   "execution_count": 8,
   "metadata": {},
   "outputs": [],
   "source": [
    "import threading\n",
    "import time\n",
    "\n",
    "def first():\n",
    "    print(11)\n",
    "    time.sleep(0.1)\n",
    "    print(22)\n",
    "    time.sleep(0.1)\n",
    "    print(33)\n",
    "    time.sleep(0.1)\n",
    "    \n",
    "def second():\n",
    "    print(1111)\n",
    "    time.sleep(0.1)\n",
    "    print(2222)\n",
    "    time.sleep(0.1)\n",
    "    print(3333)\n",
    "    time.sleep(0.1)\n",
    "    \n",
    "def loop():\n",
    "    for i in range(1,10):\n",
    "        print(f\"반복문:{i}\")\n",
    "        time.sleep(0.1)"
   ]
  },
  {
   "cell_type": "markdown",
   "metadata": {},
   "source": [
    "위의 함수를 순서대로 실행시킨다면 first()를 완료하고 second(), 그다음 loop를 차례대로 실행할 것입니다."
   ]
  },
  {
   "cell_type": "code",
   "execution_count": 9,
   "metadata": {},
   "outputs": [
    {
     "name": "stdout",
     "output_type": "stream",
     "text": [
      "11\n",
      "22\n",
      "33\n",
      "1111\n",
      "2222\n",
      "3333\n",
      "반복문:1\n",
      "반복문:2\n",
      "반복문:3\n",
      "반복문:4\n",
      "반복문:5\n",
      "반복문:6\n",
      "반복문:7\n",
      "반복문:8\n",
      "반복문:9\n"
     ]
    }
   ],
   "source": [
    "first()\n",
    "second()\n",
    "loop()"
   ]
  },
  {
   "cell_type": "markdown",
   "metadata": {},
   "source": [
    "간단한 계산같은경우 아주 빠르게 처리하겠지만, 예를 들어time.sleep() 같이 물리적으로 시간을 정해놓은 작업같은 경우 동시에 여러개를 돌리면 안되나? 라는 생각을 할 것입니다. 그것을 해결하기 위한 것이 Threading, 파이썬에서 다중 스레딩을 사용하게 해주는 모듈입니다. \n",
    "\n",
    " \n",
    "\n",
    "Threading을 사용하면 어떻게 결과가 나올까요?"
   ]
  },
  {
   "cell_type": "code",
   "execution_count": 14,
   "metadata": {},
   "outputs": [
    {
     "name": "stdout",
     "output_type": "stream",
     "text": [
      "반복문:1\n",
      "11\n",
      "1111\n"
     ]
    },
    {
     "name": "stdout",
     "output_type": "stream",
     "text": [
      "2222\n",
      "22\n",
      "반복문:2\n",
      "반복문:3\n",
      "3333\n",
      "33\n",
      "반복문:4\n",
      "반복문:5\n",
      "반복문:6\n",
      "반복문:7\n",
      "반복문:8\n",
      "반복문:9\n"
     ]
    }
   ],
   "source": [
    "f = threading.Thread(target=first)\n",
    "s = threading.Thread(target=second)\n",
    "l = threading.Thread(target=loop)\n",
    "l.start()\n",
    "f.start()\n",
    "s.start()"
   ]
  },
  {
   "cell_type": "markdown",
   "metadata": {},
   "source": [
    "동시에 실행됩니다."
   ]
  },
  {
   "cell_type": "markdown",
   "metadata": {},
   "source": [
    "## Daemon Thread?\n",
    " \n",
    "\n",
    "다중 스레딩을 통해 여러개의 스레드를 동시해 실행하였습니다. 하지만 도중에 우선순위나 종속성, 지원에 의해서 특정 스레드가 실행을 완료한다면, 관련된 모든 스레드가 종료시키고 싶다면 어떻게 할까요?\n",
    "\n",
    " \n",
    "\n",
    "예를 들어 A app을 실행한다면 그것을 지원하기위한 로그 기록 B, 상태 모니터링 C, 백그라운드 처리 D 등이 있습니다. 이는 주 프로그램의 작업 완료와는 별개로 진행되며, 주 프로그램이 종료되면 더 이상 필요하지 않은 작업 등입니다.\n",
    "\n",
    " \n",
    "\n",
    "따라서 데몬 스레드는 주 프로그램이 종료될 때 자동으로 종료되는 특징을 가지고 있습니다.\n",
    "\n",
    " \n",
    "\n",
    "이를 python 에서는 thread의 daemon 속성으로 지정할 수 있습니다. (defautl 값은 False로 되어 있습니다.)"
   ]
  },
  {
   "cell_type": "code",
   "execution_count": 12,
   "metadata": {},
   "outputs": [
    {
     "name": "stdout",
     "output_type": "stream",
     "text": [
      "반복문:1\n",
      "11\n",
      "1111\n"
     ]
    },
    {
     "name": "stdout",
     "output_type": "stream",
     "text": [
      "반복문:222\n",
      "2222\n",
      "\n",
      "반복문:3\n",
      "33\n",
      "3333\n",
      "반복문:4\n",
      "반복문:5\n",
      "반복문:6\n",
      "반복문:7\n",
      "반복문:8\n",
      "반복문:9\n"
     ]
    }
   ],
   "source": [
    "f = threading.Thread(target=first)\n",
    "s = threading.Thread(target=second)\n",
    "l = threading.Thread(target=loop)\n",
    "\n",
    "l.daemon = True\n",
    "\n",
    "l.start()\n",
    "f.start()\n",
    "s.start()"
   ]
  },
  {
   "cell_type": "markdown",
   "metadata": {},
   "source": [
    "어라? 왜 종료가 안되고 모두 실행 시켜 버리는 것일까요?"
   ]
  },
  {
   "cell_type": "code",
   "execution_count": 15,
   "metadata": {},
   "outputs": [
    {
     "name": "stdout",
     "output_type": "stream",
     "text": [
      "데몬 스레드 시작\n",
      "일반 스레드 시작\n",
      "일반 스레드 종료\n"
     ]
    },
    {
     "name": "stdout",
     "output_type": "stream",
     "text": [
      "데몬 스레드 종료\n"
     ]
    }
   ],
   "source": [
    "import threading\n",
    "import time\n",
    "\n",
    "def daemon_thread():\n",
    "    print(\"데몬 스레드 시작\")\n",
    "    time.sleep(2)\n",
    "    print(\"데몬 스레드 종료\")  # 메인 스레드가 먼저 종료되면 이 메시지는 출력되지 않습니다.\n",
    "\n",
    "def non_daemon_thread():\n",
    "    print(\"일반 스레드 시작\")\n",
    "    print(\"일반 스레드 종료\")\n",
    "\n",
    "daemon = threading.Thread(name='daemon_thread', target=daemon_thread)\n",
    "daemon.setDaemon(True)  # 데몬 스레드로 설정\n",
    "\n",
    "non_daemon = threading.Thread(name='non_daemon_thread', target=non_daemon_thread)\n",
    "\n",
    "daemon.start()\n",
    "non_daemon.start()\n"
   ]
  },
  {
   "cell_type": "markdown",
   "metadata": {},
   "source": [
    "데몬 스레드? 알빠임? 하고 끝까지 실행해 버립니다."
   ]
  },
  {
   "cell_type": "markdown",
   "metadata": {},
   "source": [
    "## ipynb (주피터 노트북) 의 특징\n",
    " \n",
    "\n",
    "주피터 노트북에서 각 셀은 독립된 실행 단위입니다. 즉, 각 셀은 별도로 실행될 수 있으며, 실행 순서는 사용자에게 달려 있습니다. 그러나 환경이나 컨텍스트는 독립적이지 않습니다.\n",
    "\n",
    "주피터 노트북의 모든 셀은 동일한 커널을 공유합니다. 즉, 한 셀에서 정의한 변수나 함수는 다른 셀에서도 사용할 수 있습니다. 예를 들어, 한 셀에서 x = 10이라고 선언하면, 이후에 실행되는 모든 셀에서 x의 값이 10임을 알 수 있습니다.\n",
    "\n",
    " \n",
    "\n",
    "이 글에서 가장 중요한 특징으로 ipynb에서는 단일 셀의 실행이 끝났다고 해서 Python 인터프리터가 종료되는 것은 아니므로 백그라운드 스레드가 계속 실행됩니다."
   ]
  },
  {
   "cell_type": "markdown",
   "metadata": {},
   "source": [
    "py 로 실행하면 잘 나옵니다.\n",
    "\n",
    " "
   ]
  }
 ],
 "metadata": {
  "kernelspec": {
   "display_name": "Python 3",
   "language": "python",
   "name": "python3"
  },
  "language_info": {
   "codemirror_mode": {
    "name": "ipython",
    "version": 3
   },
   "file_extension": ".py",
   "mimetype": "text/x-python",
   "name": "python",
   "nbconvert_exporter": "python",
   "pygments_lexer": "ipython3",
   "version": "3.7.9"
  }
 },
 "nbformat": 4,
 "nbformat_minor": 2
}
