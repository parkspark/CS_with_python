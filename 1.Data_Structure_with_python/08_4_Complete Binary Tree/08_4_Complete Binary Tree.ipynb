{
 "cells": [
  {
   "cell_type": "markdown",
   "metadata": {},
   "source": [
    "# Data structures (with python) - 8.Tree - 8.4 Complete Binary Tree\n",
    "\n",
    " \n",
    "\n",
    "💡 A complete binary tree is a special type of binary tree where all the levels of the tree are filled completely except the lowest level nodes which are filled from as left as possible.\n",
    "\n",
    "완전 이진 트리는 가능한 한 왼쪽부터 채워지는 최하위 레벨 노드를 제외하고 트리의 모든 레벨이 완전히 채워지는 특수한 유형의 이진 트리입니다.\n",
    "\n",
    " "
   ]
  },
  {
   "cell_type": "markdown",
   "metadata": {},
   "source": [
    "Full Binary Tree 와 Complete Binary Tree 의  한글 번역에 조금 주의를 해야하는데,\n",
    "\n",
    "개인적으로 정리하다보니 번역을 둘다 완전이진으로 잘못 하고 있는 경우도 있었다.\n",
    "\n",
    " \n",
    "\n",
    "정 이진 트리(整二進-, full binary tree, 때로는 proper 또는 plane 이진 트리라고도 함)\n",
    "\n",
    "완전 이진 트리(完全二進-, Complete binary tree)\n",
    "\n",
    "포화 이진 트리(飽和二進-, perfect binary tree)"
   ]
  },
  {
   "cell_type": "markdown",
   "metadata": {},
   "source": [
    "\n",
    "완전 이진 트리(Full Binary Tree): 이 트리는 모든 노드가 0개 또는 2개의 자식 노드를 가지는 트리를 말합니다. 이 말은, 한 노드가 자식 노드를 가진다면, 그것은 반드시 두 개의 자식 노드를 가져야 한다는 뜻입니다. 따라서 이 트리에서는 어떤 노드도 하나의 자식만을 가질 수 없습니다.\n",
    "\n",
    "\n",
    "완전 이진 트리(Complete Binary Tree): 이 트리는 모든 레벨이 완전히 채워져 있고, 마지막 레벨의 노드는 왼쪽부터 오른쪽으로 차례대로 채워져 있는 트리를 말합니다. 이 말은, 트리의 높이 h에 대해 1부터 h-1까지의 각 레벨이 완전히 채워져 있고, 마지막 레벨은 왼쪽부터 차례대로 채워져 있어야 한다는 뜻입니다.\n",
    "\n",
    " \n",
    "\n",
    "이 글에서 다룰 트리는 완전 이진 트리이다.\n",
    "\n",
    "간략히 정리하자면 , 모든 레벨이 완전히 채워져 있고, 마지막 레벨은 왼쪾부터 시작해 순서대로 채워져 있는 트리이다."
   ]
  },
  {
   "cell_type": "markdown",
   "metadata": {},
   "source": [
    "# In Python\n"
   ]
  },
  {
   "cell_type": "code",
   "execution_count": 1,
   "metadata": {},
   "outputs": [],
   "source": [
    "class Node:\n",
    "    def __init__(self, data):\n",
    "        self.data = data\n",
    "        self.left = None\n",
    "        self.right = None\n",
    "\n",
    "# 노드 생성\n",
    "root = Node(1)\n",
    "root.left = Node(2)\n",
    "root.right = Node(3)\n",
    "root.left.left = Node(4)\n",
    "root.left.right = Node(5)\n",
    "root.right.left = Node(6)"
   ]
  },
  {
   "cell_type": "markdown",
   "metadata": {},
   "source": [
    "이제 노드 그래프를 시각화 해주는 graphviz 라는 모듈을 이용해 보여줄수 있다. (차후정리)"
   ]
  },
  {
   "cell_type": "code",
   "execution_count": 2,
   "metadata": {},
   "outputs": [
    {
     "data": {
      "text/plain": [
       "'Digraph.gv.pdf'"
      ]
     },
     "execution_count": 2,
     "metadata": {},
     "output_type": "execute_result"
    }
   ],
   "source": [
    "from graphviz import Digraph\n",
    "\n",
    "def visualize_tree(node, dot=None):\n",
    "    if dot is None:\n",
    "        dot = Digraph()\n",
    "        dot.node(name=str(node), label=str(node.data))\n",
    "        \n",
    "    for child in [node.left, node.right]:  # left and right child nodes\n",
    "        if child is not None:\n",
    "            if child == node.left: relation = \"left\"\n",
    "            else: relation = \"right\"\n",
    "            dot.node(name=str(child) ,label=str(child.data))\n",
    "            dot.edge(str(node), str(child), label=relation)\n",
    "            dot = visualize_tree(child, dot=dot)  # recursive call \n",
    "\n",
    "    return dot\n",
    "\n",
    "# Call the function on your root node\n",
    "dot = visualize_tree(root)\n",
    "dot.view()\n"
   ]
  },
  {
   "cell_type": "markdown",
   "metadata": {},
   "source": [
    "\n",
    "\n",
    "(차후추가)"
   ]
  }
 ],
 "metadata": {
  "kernelspec": {
   "display_name": "Python 3",
   "language": "python",
   "name": "python3"
  },
  "language_info": {
   "codemirror_mode": {
    "name": "ipython",
    "version": 3
   },
   "file_extension": ".py",
   "mimetype": "text/x-python",
   "name": "python",
   "nbconvert_exporter": "python",
   "pygments_lexer": "ipython3",
   "version": "3.10.11"
  }
 },
 "nbformat": 4,
 "nbformat_minor": 2
}
