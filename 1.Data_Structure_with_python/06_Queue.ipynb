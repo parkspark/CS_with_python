{
 "cells": [
  {
   "cell_type": "markdown",
   "metadata": {},
   "source": [
    "# Data structures (with python) - 6. Queue\n",
    "\n",
    " \n",
    "\n",
    "💡 Queue is a linear collection of items where items are inserted and removed in a particular order. The queue is also called a FIFO Data Structure because it follows the “First In, First Out” principle i.e., the item that is inserted in the first is the one that is taken out first.\n",
    "\n",
    "큐는 특정 순서로 항목이 삽입되고 제거되는 항목의 선형 컬렉션입니다. 큐는 \"선입선출\" 원칙, 즉 가장 먼저 삽입된 항목이 가장 먼저 제거되는 원칙을 따르기 때문에 FIFO 데이터 구조라고도 합니다."
   ]
  },
  {
   "cell_type": "markdown",
   "metadata": {},
   "source": [
    " \n",
    "\n",
    "자료구조의 대표 주자 2개 큐 & 스택,  큐 이다\n",
    "\n",
    " \n",
    "\n",
    "큐(Queue) 는 '선입선출' (First In First Out, FIFO) 원칙을 따르는 자료구조입니다.\n",
    "\n",
    "즉, 가장 먼저 들어간(선입) 데이터가 가장 먼저 나오게(선출) 됩니다. 이는 실생활에서 사람들이 줄을 서서 기다리는 것과 같은 원리입니다.\n",
    "\n",
    " \n",
    "\n",
    "1. Enqueue: 큐의 뒤쪽에 항목을 추가합니다.\n",
    "\n",
    "2. Dequeue: 큐의 앞쪽에서 항목을 제거하고 그 항목을 반환합니다.\n",
    "\n",
    " "
   ]
  },
  {
   "cell_type": "markdown",
   "metadata": {},
   "source": [
    "## In Python\n",
    "Python에서는 리스트를 사용하여 큐를 구현할 수 있습니다.\n",
    "\n",
    "리스트의 append() 메서드르 사용하여 enqueue 연산을 구현하고,\n",
    "\n",
    "pop() 메서드를 사용하여 dequeue 연산을 구현할 수 잇습니다."
   ]
  },
  {
   "cell_type": "code",
   "execution_count": 1,
   "metadata": {},
   "outputs": [],
   "source": [
    "class Queue:\n",
    "    def __init__(self):\n",
    "        self.queue = []\n",
    "\n",
    "    # 큐에 요소 추가 (enqueue)\n",
    "    def enqueue(self, data):\n",
    "        self.queue.append(data)\n",
    "\n",
    "    # 큐의 맨 앞 요소 제거 및 반환 (dequeue)\n",
    "    def dequeue(self):\n",
    "        if self.is_empty():\n",
    "            return None\n",
    "        else:\n",
    "            return self.queue.pop(0)\n",
    "\n",
    "    # 큐가 비어있는지 확인\n",
    "    def is_empty(self):\n",
    "        return len(self.queue) == 0"
   ]
  },
  {
   "cell_type": "code",
   "execution_count": 2,
   "metadata": {},
   "outputs": [
    {
     "name": "stdout",
     "output_type": "stream",
     "text": [
      "1\n",
      "2\n",
      "3\n"
     ]
    }
   ],
   "source": [
    "q = Queue()\n",
    "\n",
    "q.enqueue(1)  # 1을 큐에 추가\n",
    "q.enqueue(2)  # 2를 큐에 추가\n",
    "q.enqueue(3)  # 3을 큐에 추가\n",
    "\n",
    "print(q.dequeue())  # 1을 반환하고 큐에서 제거\n",
    "print(q.dequeue())  # 2를 반환하고 큐에서 제거\n",
    "print(q.dequeue())  # 3을 반환하고 큐에서 제거"
   ]
  },
  {
   "cell_type": "markdown",
   "metadata": {},
   "source": [
    "# 코테 & 알고리즘\n",
    "BFS 에 활용하는 방법"
   ]
  },
  {
   "cell_type": "code",
   "execution_count": 3,
   "metadata": {},
   "outputs": [
    {
     "name": "stdout",
     "output_type": "stream",
     "text": [
      "['A', 'C', 'B', 'F', 'E', 'D']\n"
     ]
    }
   ],
   "source": [
    "from collections import deque\n",
    "\n",
    "def bfs(graph, root):\n",
    "    visited = []\n",
    "    queue = deque([root])\n",
    "\n",
    "    while queue:\n",
    "        vertex = queue.popleft()\n",
    "        if vertex not in visited:\n",
    "            visited.append(vertex)\n",
    "            queue.extend(graph[vertex] - set(visited))\n",
    "    return visited\n",
    "\n",
    "graph = {'A': {'B', 'C'}, 'B': {'A', 'D', 'E'}, 'C': {'A', 'F'}, 'D': {'B'}, 'E': {'B', 'F'}, 'F': {'C', 'E'}}\n",
    "print(bfs(graph, 'A'))  # A에서 가장 가까운 노드부터 순서대로 출력"
   ]
  },
  {
   "cell_type": "markdown",
   "metadata": {},
   "source": [
    "1. 탐색 문제 : 특정 조건을 만족하는 경로를 찾는 문제 등에서 큐를 활용할 수 있습니다.\n",
    "\n",
    "2. 시물레이션 문제 : 실시간으로 데이터가 들어오고 처리되는 시스템을 시뮬레이션하는 문제에서 큐를 사용하여 데이터를 관리할 수 있습니다.\n",
    "\n",
    "3. 스케쥴링 문제 : 특정한 우선순위에 따라 작업을 처리해야 하는 문제에서 우선순위 큐를 활용할 수 있습니다.\n",
    "\n",
    " "
   ]
  }
 ],
 "metadata": {
  "kernelspec": {
   "display_name": "Python 3",
   "language": "python",
   "name": "python3"
  },
  "language_info": {
   "codemirror_mode": {
    "name": "ipython",
    "version": 3
   },
   "file_extension": ".py",
   "mimetype": "text/x-python",
   "name": "python",
   "nbconvert_exporter": "python",
   "pygments_lexer": "ipython3",
   "version": "3.10.11"
  }
 },
 "nbformat": 4,
 "nbformat_minor": 2
}
