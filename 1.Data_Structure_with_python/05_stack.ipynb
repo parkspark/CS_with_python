{
 "cells": [
  {
   "cell_type": "markdown",
   "metadata": {},
   "source": [
    "#  Data structures (with python) - 5. Stack\n",
    "\n",
    " \n",
    "\n",
    "💡 Stack is a linear collection of items where items are inserted and removed in a particular order. Stack is also called a LIFO Data Structure because it follows the “Last In First Out” principle i.e. the item that is inserted in the last is the one that is taken out first.\n",
    "\n",
    "스택은 특정 순서로 항목이 삽입되고 제거되는 선형 항목 모음입니다. 스택은 \"선입선출\" 원칙, 즉 가장 마지막에 삽입된 항목이 가장 먼저 제거되는 원칙을 따르기 때문에 LIFO 데이터 구조라고도 불립니다."
   ]
  },
  {
   "cell_type": "markdown",
   "metadata": {},
   "source": [
    " \n",
    "\n",
    "자료구조를 공부하면 매번 1장 1항 같은 항목.\n",
    "\n",
    "스택과 큐. 그중 스택(stack) 입니다.\n",
    "\n",
    " \n",
    "\n",
    "스택(Stakc)은 '후입선출', Last in First Out, LIFO 원칙을 따르는 자료구조입니다.\n",
    "\n",
    "즉, 가장 나중에 들어간(후입) 데이터가 가장 먼저 나오게(선출) 됩니다.\n",
    "\n",
    "책을 쌓아두고 가장 위에 있는 책을 먼저 꺼내는 것 이라고 비유할수 있습니다.\n",
    "\n",
    " \n",
    "\n",
    "스택은 주로 두 가지 주요 연산으로 구성됩니다.\n",
    "\n",
    "1. Push : 스택의 맨 위에 항목을 추가합니다.\n",
    "\n",
    "2. Pop : 스택의 맨 위에서 항목을 제거하고 그 항목을 반환합니다.\n",
    "\n",
    " \n",
    "\n",
    " "
   ]
  },
  {
   "cell_type": "markdown",
   "metadata": {},
   "source": [
    "## In Python\n",
    "리스트를 사용해 스택을 구현할 수 있습니다.\n",
    "\n",
    "리스트 append() 메서드를 사용해여 push 연산을 구현하고,\n",
    "\n",
    "pop() 메서드를 사용해 pop 연산을 구현할 수 있습니다.\n",
    "\n",
    " "
   ]
  },
  {
   "cell_type": "code",
   "execution_count": 1,
   "metadata": {},
   "outputs": [],
   "source": [
    "class Stack:\n",
    "    def __init__(self):\n",
    "        self.stack = []\n",
    "\n",
    "    # 스택에 요소 추가 (push)\n",
    "    def push(self, data):\n",
    "        self.stack.append(data)\n",
    "\n",
    "    # 스택의 맨 위 요소 제거 및 반환 (pop)\n",
    "    def pop(self):\n",
    "        if self.is_empty():\n",
    "            return None\n",
    "        else:\n",
    "            return self.stack.pop()\n",
    "\n",
    "    # 스택이 비어있는지 확인\n",
    "    def is_empty(self):\n",
    "        return len(self.stack) == 0"
   ]
  },
  {
   "cell_type": "code",
   "execution_count": 3,
   "metadata": {},
   "outputs": [
    {
     "name": "stdout",
     "output_type": "stream",
     "text": [
      "3\n",
      "2\n",
      "1\n"
     ]
    }
   ],
   "source": [
    "s = Stack()\n",
    "\n",
    "s.push(1)  # 1을 스택에 추가\n",
    "s.push(2)  # 2를 스택에 추가\n",
    "s.push(3)  # 3을 스택에 추가\n",
    "\n",
    "print(s.pop())  # 3을 반환하고 스택에서 제거\n",
    "print(s.pop())  # 2를 반환하고 스택에서 제거\n",
    "print(s.pop())  # 1을 반환하고 스택에서 제거"
   ]
  },
  {
   "cell_type": "markdown",
   "metadata": {},
   "source": [
    "위 코드에서는 1,2,3 순서대로 스택에 추가 (push)했고,\n",
    "\n",
    "이후 세 번 pop 연산을 수행하여 3, 2, 1 순서대로 데이터가 반환되고 스택에서 제거되는 것을 확인할 수 있습니다.\n",
    "\n",
    "이는 스택의 '후입선출' 원칙을 잘 보여준다.\n",
    "\n"
   ]
  }
 ],
 "metadata": {
  "kernelspec": {
   "display_name": "Python 3",
   "language": "python",
   "name": "python3"
  },
  "language_info": {
   "codemirror_mode": {
    "name": "ipython",
    "version": 3
   },
   "file_extension": ".py",
   "mimetype": "text/x-python",
   "name": "python",
   "nbconvert_exporter": "python",
   "pygments_lexer": "ipython3",
   "version": "3.10.11"
  }
 },
 "nbformat": 4,
 "nbformat_minor": 2
}
