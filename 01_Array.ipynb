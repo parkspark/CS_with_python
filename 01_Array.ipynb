{
 "cells": [
  {
   "cell_type": "markdown",
   "metadata": {},
   "source": [
    "# 1. Array\n",
    "\n",
    "💡 Arrays store elements in contiguous memory locations, resulting in easily calculable addresses for the elements stored and this allows faster access to an element at a specific index.\n",
    "\n",
    "배열은 인접한 메모리 위치에 요소를 저장하므로 저장된 요소의 주소를 쉽게 계산할 수 있어 특정 인덱스의 요소에 더 빠르게 액세스할 수 있습니다."
   ]
  },
  {
   "cell_type": "markdown",
   "metadata": {},
   "source": [
    "Array \n",
    "\n",
    "- 인덱스 존재\n",
    "\n",
    "- 데이터 위치에 직접적인 접근 가능\n",
    "\n",
    "- 할당된 공간은 연속적임 -> 조회가 빠르고,cache hit 가능성이 높음\n",
    "\n",
    "- 미리 배열의 크기를 지정해야하고, 고정되어 있는 배열의 크기때문에 데이터 추가 및 삭제가 불편\n",
    "\n",
    " \n",
    "\n",
    "List (in Commonly CS)\n",
    "\n",
    "- 인덱스 존재, 몇번째 데이터 정도인지 의미함\n",
    "\n",
    "- 메모리 주소가 연속적이 아닐 수도 있음\n",
    "\n",
    "- 포인터를 통해 다음 데이터의 위치를 가리키고 있어 삽입, 삭제가 쉬움\n",
    "\n",
    "- 동적이므로, 배열과 다르게 크기가 정해져 있지 않음\n",
    "\n",
    "- 검색 성능이 좋지 않음, 직접적인 접근이 불가, 처음부터 찾아야함 -> 확실하게 정해져 있는 데이터는 배열이 효율적"
   ]
  },
  {
   "cell_type": "markdown",
   "metadata": {},
   "source": [
    "python 에서 list는 '배열(array)'와 '연결 리스트(Linked List)'의 특성을 모두 가지고 있다.\n",
    "내부적으로는 동적 배열로 구현 되며, 배열의 특성을 가지면서도 크기가 동적으로 조절될 수 있다.\n",
    "\n",
    "또한, 연결 리스트의 특성을 가진다고 이해할 수 있는 부분 -> 데이터의 삽입과 삭제가 상대적으로 용이하다는 점.\n",
    "\n",
    " \n",
    "\n",
    "따라서, python의 list는 'array'로 이해하는것은 부정확하며, '동적 배열'로 이해하는 것이 더 정확하다.\n",
    "\n",
    "python의 list는 'indexing'과 'slicing'을 지원하므로 직접적인 데이터 접근이 가능하다.\n",
    "\n",
    "이는 일반적인 'linked list'의 특성과는 다르지만, pyhton 의 list는 내부적으로 '동적 배열'로 구현되어 있기 때문에 가능한 것이다."
   ]
  },
  {
   "cell_type": "code",
   "execution_count": 1,
   "metadata": {},
   "outputs": [],
   "source": [
    "numbers = [1,2,3,4,5]"
   ]
  },
  {
   "cell_type": "markdown",
   "metadata": {},
   "source": [
    "이런 numbers라는 리스트를 생성한뒤, 특정 요소에 접근하려면 인덱스를 사용한다.\n",
    "\n",
    "파이썬의 인덱스는 0부터 시작하므로,\n",
    "\n",
    "numbers[2] 라면 '3'을 반환한다."
   ]
  },
  {
   "cell_type": "code",
   "execution_count": 2,
   "metadata": {},
   "outputs": [
    {
     "name": "stdout",
     "output_type": "stream",
     "text": [
      "3\n"
     ]
    }
   ],
   "source": [
    "print(numbers[2]) # 3"
   ]
  },
  {
   "cell_type": "markdown",
   "metadata": {},
   "source": [
    "직접적인 파이썬에는 array 모듈이 존재한다. list와 array의 차이를 보자."
   ]
  },
  {
   "cell_type": "code",
   "execution_count": 3,
   "metadata": {},
   "outputs": [],
   "source": [
    "# List\n",
    "my_list = [1, \"Hello\", 3.14]\n",
    "\n",
    "# Array\n",
    "import array\n",
    "my_array = array.array('i', [1, 2, 3, 4, 5])  # 'i'는 integer를 의미합니다."
   ]
  },
  {
   "cell_type": "markdown",
   "metadata": {},
   "source": [
    "my_list 는 정수, 문자열, 실수 등 다양한 데이터 타입의 요소를 포함.\n",
    "\n",
    "반면 my_array는 단일 타입의 요소만을 포함한다.\n",
    "\n",
    " \n",
    "\n",
    "또한 메모리 사용량도 Array가 더 효율적이다.\n",
    "\n",
    "-> 동일한 데이터 타입의 값만을 저장하므로, 메모리 공간을 더 효율적으로 사용"
   ]
  },
  {
   "cell_type": "code",
   "execution_count": 4,
   "metadata": {},
   "outputs": [
    {
     "ename": "TypeError",
     "evalue": "'str' object cannot be interpreted as an integer",
     "output_type": "error",
     "traceback": [
      "\u001b[1;31m---------------------------------------------------------------------------\u001b[0m",
      "\u001b[1;31mTypeError\u001b[0m                                 Traceback (most recent call last)",
      "Cell \u001b[1;32mIn[4], line 1\u001b[0m\n\u001b[1;32m----> 1\u001b[0m \u001b[43mmy_array\u001b[49m\u001b[38;5;241;43m.\u001b[39;49m\u001b[43mappend\u001b[49m\u001b[43m(\u001b[49m\u001b[38;5;124;43m\"\u001b[39;49m\u001b[38;5;124;43mHello\u001b[39;49m\u001b[38;5;124;43m\"\u001b[39;49m\u001b[43m)\u001b[49m  \u001b[38;5;66;03m# 오류\u001b[39;00m\n",
      "\u001b[1;31mTypeError\u001b[0m: 'str' object cannot be interpreted as an integer"
     ]
    }
   ],
   "source": [
    "my_array.append(\"Hello\")  # 오류"
   ]
  },
  {
   "cell_type": "markdown",
   "metadata": {},
   "source": [
    "my_array 에 hello라는 string 값을 array에 추가하려고 하면, array가 정수 타입의 값만을 저장하도록 선언 되었기에 오류가 발생한다."
   ]
  },
  {
   "cell_type": "markdown",
   "metadata": {},
   "source": [
    "개인적인 생각\n",
    "\n",
    "Array\n",
    "\n",
    "- 메모리 제한 관련\n",
    "\n",
    "- 데이터 타입과 관련된 오류 방지\n",
    "\n",
    " \n",
    "\n",
    " \n",
    "\n",
    "List\n",
    "- 범용적인 데이터 담기\n",
    "\n",
    "- 데이터 타입이 다른 데이터들을 담을 때"
   ]
  }
 ],
 "metadata": {
  "kernelspec": {
   "display_name": "Python 3",
   "language": "python",
   "name": "python3"
  },
  "language_info": {
   "codemirror_mode": {
    "name": "ipython",
    "version": 3
   },
   "file_extension": ".py",
   "mimetype": "text/x-python",
   "name": "python",
   "nbconvert_exporter": "python",
   "pygments_lexer": "ipython3",
   "version": "3.10.11"
  }
 },
 "nbformat": 4,
 "nbformat_minor": 2
}
